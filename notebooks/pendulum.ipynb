{
 "cells": [
  {
   "cell_type": "code",
   "execution_count": 1,
   "metadata": {},
   "outputs": [],
   "source": [
    "%matplotlib notebook"
   ]
  },
  {
   "cell_type": "code",
   "execution_count": 2,
   "metadata": {},
   "outputs": [],
   "source": [
    "import tensorflow as tf\n",
    "\n",
    "import numpy as np\n",
    "\n",
    "from pilco.environments import Environment\n",
    "from pilco.policies import RBFPolicy, SineBoundedActionPolicy\n",
    "from pilco.costs import EQCost\n",
    "from pilco.agents import EQGPAgent\n",
    "\n",
    "import not_tf_opt as ntfo\n",
    "\n",
    "from tqdm.notebook import trange\n",
    "\n",
    "import matplotlib.pyplot as plt"
   ]
  },
  {
   "cell_type": "code",
   "execution_count": 3,
   "metadata": {},
   "outputs": [],
   "source": [
    "dtype = tf.float64\n",
    "\n",
    "# Create pendulum environment from Gym\n",
    "env = Environment(name='Pendulum-v0')\n",
    "env.reset()\n",
    "\n",
    "# Create stuff for our controller\n",
    "# Upright position, stationary and zero action position for pendulum is [0, 0, 0]\n",
    "target_loc = tf.zeros([1, 2])\n",
    "target_scale = 1.\n",
    "\n",
    "eq_cost = EQCost(target_loc=target_loc,\n",
    "                 target_scale=target_scale,\n",
    "                 dtype=dtype)\n",
    "\n",
    "# create EQ policy\n",
    "eq_policy = RBFPolicy(state_dim=2,\n",
    "                      action_dim=1,\n",
    "                      num_rbf_features=50,\n",
    "                      dtype=dtype)\n",
    "\n",
    "eq_policy = SineBoundedActionPolicy(eq_policy,\n",
    "                                    lower=-2,\n",
    "                                    upper=2)\n",
    "\n",
    "# create agent\n",
    "eq_agent = EQGPAgent(state_dim=2,\n",
    "                     action_dim=1,\n",
    "                     policy=eq_policy,\n",
    "                     cost=eq_cost,\n",
    "                     dtype=dtype)"
   ]
  },
  {
   "cell_type": "code",
   "execution_count": 4,
   "metadata": {
    "scrolled": true
   },
   "outputs": [
    {
     "data": {
      "application/vnd.jupyter.widget-view+json": {
       "model_id": "95a69772a33f4f9fae3a83f4591bf8d9",
       "version_major": 2,
       "version_minor": 0
      },
      "text/plain": [
       "HBox(children=(FloatProgress(value=0.0, max=50.0), HTML(value='')))"
      ]
     },
     "metadata": {},
     "output_type": "display_data"
    },
    {
     "name": "stdout",
     "output_type": "stream",
     "text": [
      "\n"
     ]
    }
   ],
   "source": [
    "num_episodes = 50\n",
    "num_steps = 1\n",
    "\n",
    "eq_agent.policy.reset()\n",
    "\n",
    "for episode in trange(num_episodes):\n",
    "    \n",
    "    state = env.reset()\n",
    "    \n",
    "    state = np.array([np.pi, 8]) * (2 * np.random.uniform(size=(2,)) - 1)\n",
    "    env.env.env.state = state\n",
    "    \n",
    "    for step in range(num_steps):\n",
    "        \n",
    "        action = tf.random.uniform(shape=()) * 4. - 2\n",
    "        state, action, next_state = env.step(action[None].numpy())\n",
    "        \n",
    "        eq_agent.observe(state, action, next_state)"
   ]
  },
  {
   "cell_type": "code",
   "execution_count": null,
   "metadata": {
    "scrolled": false
   },
   "outputs": [
    {
     "name": "stdout",
     "output_type": "stream",
     "text": [
      "Optimising policy\n"
     ]
    },
    {
     "data": {
      "application/vnd.jupyter.widget-view+json": {
       "model_id": "544d54cecbe04881b34035750de9895f",
       "version_major": 2,
       "version_minor": 0
      },
      "text/plain": [
       "HBox(children=(FloatProgress(value=0.0, max=20.0), HTML(value='')))"
      ]
     },
     "metadata": {},
     "output_type": "display_data"
    },
    {
     "name": "stdout",
     "output_type": "stream",
     "text": [
      "tf.Tensor(29.131525225518242, shape=(), dtype=float64)\n",
      "tf.Tensor(29.118752046138884, shape=(), dtype=float64)\n",
      "tf.Tensor(29.10602143914646, shape=(), dtype=float64)\n",
      "tf.Tensor(29.09365455038195, shape=(), dtype=float64)\n",
      "tf.Tensor(29.08202243224251, shape=(), dtype=float64)\n",
      "tf.Tensor(29.071515168019896, shape=(), dtype=float64)\n",
      "tf.Tensor(29.062400793209118, shape=(), dtype=float64)\n",
      "tf.Tensor(29.05465529532259, shape=(), dtype=float64)\n",
      "tf.Tensor(29.047948915784172, shape=(), dtype=float64)\n",
      "tf.Tensor(29.041768512035983, shape=(), dtype=float64)\n",
      "tf.Tensor(29.035589175304796, shape=(), dtype=float64)\n",
      "tf.Tensor(29.029023638894742, shape=(), dtype=float64)\n",
      "tf.Tensor(29.021881890317427, shape=(), dtype=float64)\n",
      "tf.Tensor(29.014176061538862, shape=(), dtype=float64)\n",
      "tf.Tensor(29.00610361818694, shape=(), dtype=float64)\n",
      "tf.Tensor(28.99800255428612, shape=(), dtype=float64)\n",
      "tf.Tensor(28.990266509120048, shape=(), dtype=float64)\n",
      "tf.Tensor(28.983222818510974, shape=(), dtype=float64)\n",
      "tf.Tensor(28.977003131919346, shape=(), dtype=float64)\n",
      "tf.Tensor(28.97147027362653, shape=(), dtype=float64)\n",
      "\n",
      "tf.Tensor(28.97147027362653, shape=(), dtype=float64)\n",
      "Performing episode 1:\n"
     ]
    },
    {
     "data": {
      "application/vnd.jupyter.widget-view+json": {
       "model_id": "370aeb4514e94825b44a81f07550cdda",
       "version_major": 2,
       "version_minor": 0
      },
      "text/plain": [
       "HBox(children=(FloatProgress(value=0.0, max=20.0), HTML(value='')))"
      ]
     },
     "metadata": {},
     "output_type": "display_data"
    },
    {
     "name": "stdout",
     "output_type": "stream",
     "text": [
      "\n",
      "Optimising policy\n"
     ]
    },
    {
     "data": {
      "application/vnd.jupyter.widget-view+json": {
       "model_id": "8ec41b29ae894dfa9a323f80fe6bcb08",
       "version_major": 2,
       "version_minor": 0
      },
      "text/plain": [
       "HBox(children=(FloatProgress(value=0.0, max=20.0), HTML(value='')))"
      ]
     },
     "metadata": {},
     "output_type": "display_data"
    },
    {
     "name": "stdout",
     "output_type": "stream",
     "text": [
      "tf.Tensor(29.44031796333766, shape=(), dtype=float64)\n",
      "tf.Tensor(29.437975631651206, shape=(), dtype=float64)\n",
      "tf.Tensor(29.434946148391, shape=(), dtype=float64)\n",
      "tf.Tensor(29.43133650723909, shape=(), dtype=float64)\n",
      "tf.Tensor(29.427213695302576, shape=(), dtype=float64)\n",
      "tf.Tensor(29.42263481743317, shape=(), dtype=float64)\n",
      "tf.Tensor(29.417656870573847, shape=(), dtype=float64)\n",
      "tf.Tensor(29.41234013637726, shape=(), dtype=float64)\n",
      "tf.Tensor(29.40674860303413, shape=(), dtype=float64)\n",
      "tf.Tensor(29.400948663130478, shape=(), dtype=float64)\n"
     ]
    }
   ],
   "source": [
    "horizon = 30\n",
    "num_optim_steps = 20\n",
    "num_episodes = 5\n",
    "num_experience_steps = 20\n",
    "\n",
    "tolerance = 1e-5\n",
    "\n",
    "init_state = tf.constant([[-np.pi, 0.]], dtype=tf.float64)\n",
    "init_cov = tf.eye(2, dtype=tf.float64)\n",
    "\n",
    "agent_optimizer = tf.optimizers.Adam(1e-2)\n",
    "optimiser = tf.optimizers.Adam(1e-2)\n",
    "\n",
    "for episode in range(num_episodes):\n",
    "\n",
    "    print('Optimising policy')\n",
    "    \n",
    "    prev_loss = np.inf\n",
    "    \n",
    "    eq_agent.set_eq_scales_from_data()\n",
    "    \n",
    "#     for n in trange(num_optim_steps):\n",
    "#         with tf.GradientTape(watch_accessed_variables=False) as tape:\n",
    "#             tape.watch(eq_agent.parameters)\n",
    "            \n",
    "#             loss = -eq_agent.dynamics_log_marginal()\n",
    "            \n",
    "#         gradients = tape.gradient(loss, eq_agent.parameters)\n",
    "#         agent_optimizer.apply_gradients(zip(gradients, eq_agent.parameters))\n",
    "        \n",
    "#         eq_agent.eq_scales.assign(tf.clip_by_value(eq_agent.eq_scales(), 0., 1.))\n",
    "    \n",
    "#         print(loss)\n",
    "\n",
    "#         if tf.abs(loss - prev_loss) < tolerance:\n",
    "#             print(f\"Early convergence!\")\n",
    "#             break\n",
    "#         prev_loss = loss\n",
    "        \n",
    "#     print(f\"GP length scales:\\n{eq_agent.eq_scales()}\")\n",
    "#     print(f\"GP variance:\\n{eq_agent.eq_coeff()}\")\n",
    "#     print(f\"GP length scales:\\n{eq_agent.eq_noise_coeff()}\")\n",
    "    \n",
    "    eq_agent.policy.reset()\n",
    "    \n",
    "    prev_loss = np.inf\n",
    "    for n in trange(num_optim_steps):\n",
    "\n",
    "        cost = 0.\n",
    "        loc = init_state\n",
    "        cov = init_cov\n",
    "\n",
    "        with tf.GradientTape(watch_accessed_variables=False) as tape:\n",
    "\n",
    "            tape.watch(eq_agent.policy.parameters)\n",
    "\n",
    "            for t in range(horizon):\n",
    "\n",
    "                mean_full, cov_full = eq_agent.policy.match_moments(loc, cov)\n",
    "\n",
    "                loc, cov = eq_agent.match_moments(mean_full, cov_full)\n",
    "\n",
    "                cost = cost + eq_agent.cost.expected_cost(loc[None, :], cov)\n",
    "\n",
    "        gradients = tape.gradient(cost, eq_agent.policy.parameters)\n",
    "\n",
    "        optimiser.apply_gradients(zip(gradients, eq_agent.policy.parameters))\n",
    "\n",
    "        if tf.abs(cost - prev_loss) < tolerance:\n",
    "            print(f\"Early convergence!\")\n",
    "            break\n",
    "            \n",
    "        prev_loss = cost\n",
    "        \n",
    "        print(cost)\n",
    "    \n",
    "    print(cost)\n",
    "        \n",
    "    print(f'Performing episode {episode + 1}:')\n",
    "    \n",
    "    state = env.reset()\n",
    "    \n",
    "    for step in trange(num_experience_steps):\n",
    "        \n",
    "        action = eq_agent.act(state)\n",
    "        state, action, next_state = env.step(action[None].numpy())\n",
    "        eq_agent.observe(state, action, next_state)"
   ]
  },
  {
   "cell_type": "code",
   "execution_count": null,
   "metadata": {},
   "outputs": [],
   "source": [
    "x = eq_agent.dynamics_inputs\n",
    "y = eq_agent.dynamics_outputs.value().numpy()"
   ]
  },
  {
   "cell_type": "code",
   "execution_count": null,
   "metadata": {},
   "outputs": [],
   "source": [
    "from mpl_toolkits.mplot3d import Axes3D\n",
    "\n",
    "fig = plt.figure()\n",
    "ax = fig.add_subplot(111, projection='3d')\n",
    "ax.scatter(x[:, 0], x[:, 1], x[:, 2])\n",
    "\n",
    "plt.show()"
   ]
  },
  {
   "cell_type": "code",
   "execution_count": null,
   "metadata": {},
   "outputs": [],
   "source": [
    "plt.figure()\n",
    "plt.scatter(y[:, 0], y[:, 1])"
   ]
  },
  {
   "cell_type": "code",
   "execution_count": null,
   "metadata": {},
   "outputs": [],
   "source": [
    "plt.figure()\n",
    "plt.scatter(x[:,0], y[:,0])"
   ]
  }
 ],
 "metadata": {
  "kernelspec": {
   "display_name": "Python 3",
   "language": "python",
   "name": "python3"
  },
  "language_info": {
   "codemirror_mode": {
    "name": "ipython",
    "version": 3
   },
   "file_extension": ".py",
   "mimetype": "text/x-python",
   "name": "python",
   "nbconvert_exporter": "python",
   "pygments_lexer": "ipython3",
   "version": "3.7.3"
  }
 },
 "nbformat": 4,
 "nbformat_minor": 4
}
