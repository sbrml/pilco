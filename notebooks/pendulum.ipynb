{
 "cells": [
  {
   "cell_type": "code",
   "execution_count": 1,
   "metadata": {},
   "outputs": [],
   "source": [
    "import tensorflow as tf\n",
    "\n",
    "import numpy as np\n",
    "\n",
    "from pilco.environments import Environment\n",
    "from pilco.policies import RBFPolicy\n",
    "from pilco.costs import EQCost\n",
    "from pilco.agents import EQGPAgent\n",
    "\n",
    "from tqdm.notebook import trange"
   ]
  },
  {
   "cell_type": "code",
   "execution_count": 2,
   "metadata": {},
   "outputs": [],
   "source": [
    "dtype = tf.float64\n",
    "\n",
    "# Create pendulum environment from Gym\n",
    "env = Environment(name='Pendulum-v0')\n",
    "env.reset()\n",
    "\n",
    "# Create stuff for our controller\n",
    "# Upright position, stationary and zero action position for pendulum is [0, 0, 0]\n",
    "target_loc = tf.zeros([1, 2])\n",
    "target_scale = 1.\n",
    "\n",
    "eq_cost = EQCost(target_loc=target_loc,\n",
    "                 target_scale=target_scale,\n",
    "                 dtype=dtype)\n",
    "\n",
    "# create EQ policy\n",
    "eq_policy = RBFPolicy(state_dim=2,\n",
    "                      action_dim=1,\n",
    "                      num_rbf_features=100,\n",
    "                      dtype=dtype)\n",
    "\n",
    "# create agent\n",
    "eq_agent = EQGPAgent(state_dim=2,\n",
    "                     action_dim=1,\n",
    "                     policy=eq_policy,\n",
    "                     cost=eq_cost,\n",
    "                     dtype=dtype)"
   ]
  },
  {
   "cell_type": "code",
   "execution_count": 3,
   "metadata": {},
   "outputs": [
    {
     "name": "stdout",
     "output_type": "stream",
     "text": [
      "Episode 1\n"
     ]
    },
    {
     "data": {
      "application/vnd.jupyter.widget-view+json": {
       "model_id": "1d1a5bbe4b3f4240a07c10c0122ca7ff",
       "version_major": 2,
       "version_minor": 0
      },
      "text/plain": [
       "HBox(children=(FloatProgress(value=0.0, max=20.0), HTML(value='')))"
      ]
     },
     "metadata": {},
     "output_type": "display_data"
    },
    {
     "name": "stdout",
     "output_type": "stream",
     "text": [
      "state, action, next_state: [-0.92758772  0.36685919], [-12.94512724], [-0.95425134 -0.53327241]\n",
      "state, action, next_state: [-0.95425134 -0.53327241], [-12.94512724], [-1.0265105  -1.44518322]\n",
      "state, action, next_state: [-1.0265105  -1.44518322], [-12.92327], [-1.14585081 -2.38680621]\n",
      "state, action, next_state: [-1.14585081 -2.38680621], [-10.78427358], [-1.31435592 -3.3701021 ]\n",
      "state, action, next_state: [-1.31435592 -3.3701021 ], [-7.2978862], [-1.53413473 -4.39557632]\n",
      "state, action, next_state: [-1.53413473 -4.39557632], [-3.78411042], [-1.80638835 -5.44507235]\n",
      "state, action, next_state: [-1.80638835 -5.44507235], [-1.3566641], [-2.12528106 -6.37785421]\n",
      "state, action, next_state: [-2.12528106 -6.37785421], [-0.25248388], [-2.47794884 -7.05335567]\n",
      "state, action, next_state: [-2.47794884 -7.05335567], [0.02141182], [-2.85355571 -7.51213742]\n",
      "state, action, next_state: [-2.85355571 -7.51213742], [0.04262904], [-3.23949551 -7.718796  ]\n",
      "state, action, next_state: [-3.23949551 -7.718796  ], [0.02787793], [-3.62156073 -7.64130441]\n",
      "state, action, next_state: [-3.62156073 -7.64130441], [0.01442302], [-3.98620212 -7.29282781]\n",
      "state, action, next_state: [-3.98620212 -7.29282781], [0.00341536], [-4.32277871 -6.73153162]\n",
      "state, action, next_state: [-4.32277871 -6.73153162], [-0.01177101], [-4.62475393 -6.0395044 ]\n",
      "state, action, next_state: [-4.62475393 -6.0395044 ], [-0.04226603], [-4.88969005 -5.29872243]\n",
      "state, action, next_state: [-4.88969005 -5.29872243], [-0.10299576], [-5.11848651 -4.57592932]\n",
      "state, action, next_state: [-5.11848651 -4.57592932], [-0.20368539], [-5.31436052 -3.91748008]\n",
      "state, action, next_state: [-5.31436052 -3.91748008], [-0.33447727], [-5.48183482 -3.34948607]\n",
      "state, action, next_state: [-5.48183482 -3.34948607], [-0.46525204], [-5.6258624  -2.88055163]\n",
      "state, action, next_state: [-5.6258624  -2.88055163], [-0.56521694], [-5.75121662 -2.50708434]\n",
      "\n"
     ]
    }
   ],
   "source": [
    "num_episodes = 1\n",
    "num_steps = 20\n",
    "\n",
    "eq_agent.policy.reset()\n",
    "\n",
    "for episode in range(num_episodes):\n",
    "    \n",
    "    print(f\"Episode {episode + 1}\")\n",
    "    \n",
    "    state = env.reset()\n",
    "    \n",
    "    for step in trange(num_steps):\n",
    "        \n",
    "        action = eq_agent.act(state)\n",
    "        state, action, next_state = env.step(action[None].numpy())\n",
    "        eq_agent.observe(state, action, next_state)\n",
    "        \n",
    "        #env.env.render()\n",
    "        \n",
    "        print(f\"state, action, next_state: {state}, {action}, {next_state}\")"
   ]
  },
  {
   "cell_type": "code",
   "execution_count": 4,
   "metadata": {
    "scrolled": false
   },
   "outputs": [
    {
     "name": "stdout",
     "output_type": "stream",
     "text": [
      "Optimising policy\n"
     ]
    },
    {
     "data": {
      "application/vnd.jupyter.widget-view+json": {
       "model_id": "1455b138b6b84bb59ce541ab09aabf08",
       "version_major": 2,
       "version_minor": 0
      },
      "text/plain": [
       "HBox(children=(FloatProgress(value=0.0, max=50.0), HTML(value='')))"
      ]
     },
     "metadata": {},
     "output_type": "display_data"
    },
    {
     "name": "stderr",
     "output_type": "stream",
     "text": [
      "ERROR:root:Internal Python error in the inspect module.\n",
      "Below is the traceback from this internal error.\n",
      "\n"
     ]
    },
    {
     "name": "stdout",
     "output_type": "stream",
     "text": [
      "Traceback (most recent call last):\n",
      "  File \"/Users/stratis/Documents/sbrml/pilco/venv-pilco/lib/python3.7/site-packages/IPython/core/interactiveshell.py\", line 3319, in run_code\n",
      "    exec(code_obj, self.user_global_ns, self.user_ns)\n",
      "  File \"<ipython-input-4-6a8fdd73cd68>\", line 32, in <module>\n",
      "    cost = cost + eq_agent.cost.expected_cost(loc[None, :], cov)\n",
      "  File \"/Users/stratis/Documents/sbrml/pilco/pilco/costs/costs.py\", line 65, in expected_cost\n",
      "    cov_plus_target_scale = cov + I * self.target_scale**2\n",
      "  File \"/Users/stratis/Documents/sbrml/pilco/venv-pilco/lib/python3.7/site-packages/tensorflow_core/python/ops/math_ops.py\", line 903, in binary_op_wrapper\n",
      "    elif not isinstance(y, sparse_tensor.SparseTensor):\n",
      "  File \"/Users/stratis/Documents/sbrml/pilco/venv-pilco/bin/../lib/python3.7/abc.py\", line 137, in __instancecheck__\n",
      "    def __instancecheck__(cls, instance):\n",
      "KeyboardInterrupt\n",
      "\n",
      "During handling of the above exception, another exception occurred:\n",
      "\n",
      "Traceback (most recent call last):\n",
      "  File \"/Users/stratis/Documents/sbrml/pilco/venv-pilco/lib/python3.7/site-packages/IPython/core/interactiveshell.py\", line 2034, in showtraceback\n",
      "    stb = value._render_traceback_()\n",
      "AttributeError: 'KeyboardInterrupt' object has no attribute '_render_traceback_'\n",
      "\n",
      "During handling of the above exception, another exception occurred:\n",
      "\n",
      "Traceback (most recent call last):\n",
      "  File \"/Users/stratis/Documents/sbrml/pilco/venv-pilco/lib/python3.7/site-packages/IPython/core/ultratb.py\", line 1151, in get_records\n",
      "    return _fixed_getinnerframes(etb, number_of_lines_of_context, tb_offset)\n",
      "  File \"/Users/stratis/Documents/sbrml/pilco/venv-pilco/lib/python3.7/site-packages/IPython/core/ultratb.py\", line 319, in wrapped\n",
      "    return f(*args, **kwargs)\n",
      "  File \"/Users/stratis/Documents/sbrml/pilco/venv-pilco/lib/python3.7/site-packages/IPython/core/ultratb.py\", line 353, in _fixed_getinnerframes\n",
      "    records = fix_frame_records_filenames(inspect.getinnerframes(etb, context))\n",
      "  File \"/Library/Frameworks/Python.framework/Versions/3.7/lib/python3.7/inspect.py\", line 1502, in getinnerframes\n",
      "    frameinfo = (tb.tb_frame,) + getframeinfo(tb, context)\n",
      "  File \"/Library/Frameworks/Python.framework/Versions/3.7/lib/python3.7/inspect.py\", line 1460, in getframeinfo\n",
      "    filename = getsourcefile(frame) or getfile(frame)\n",
      "  File \"/Library/Frameworks/Python.framework/Versions/3.7/lib/python3.7/inspect.py\", line 696, in getsourcefile\n",
      "    if getattr(getmodule(object, filename), '__loader__', None) is not None:\n",
      "  File \"/Library/Frameworks/Python.framework/Versions/3.7/lib/python3.7/inspect.py\", line 742, in getmodule\n",
      "    os.path.realpath(f)] = module.__name__\n",
      "  File \"/Users/stratis/Documents/sbrml/pilco/venv-pilco/bin/../lib/python3.7/posixpath.py\", line 395, in realpath\n",
      "    path, ok = _joinrealpath(filename[:0], filename, {})\n",
      "  File \"/Users/stratis/Documents/sbrml/pilco/venv-pilco/bin/../lib/python3.7/posixpath.py\", line 415, in _joinrealpath\n",
      "    name, _, rest = rest.partition(sep)\n",
      "KeyboardInterrupt\n"
     ]
    },
    {
     "ename": "KeyboardInterrupt",
     "evalue": "",
     "output_type": "error",
     "traceback": [
      "\u001b[0;31m---------------------------------------------------------------------------\u001b[0m"
     ]
    }
   ],
   "source": [
    "horizon = 10\n",
    "num_optim_steps = 50\n",
    "num_episodes = 10\n",
    "\n",
    "init_state = tf.constant([[-np.pi, 0.]], dtype=tf.float64)\n",
    "init_cov = tf.eye(2, dtype=tf.float64)\n",
    "\n",
    "optimiser = tf.optimizers.Adam(1. / horizon)\n",
    "\n",
    "for episode in range(num_episodes):\n",
    "\n",
    "    print('Optimising policy')\n",
    "    \n",
    "    eq_agent.policy.reset()\n",
    "    \n",
    "    for n in trange(num_optim_steps):\n",
    "\n",
    "        cost = 0.\n",
    "        loc = init_state\n",
    "        cov = init_cov\n",
    "\n",
    "        with tf.GradientTape(watch_accessed_variables=False) as tape:\n",
    "\n",
    "            tape.watch(eq_agent.policy.parameters)\n",
    "\n",
    "            for t in range(horizon):\n",
    "\n",
    "                mean_full, cov_full = eq_agent.policy.match_moments(loc, cov)\n",
    "\n",
    "                loc, cov = eq_agent.match_moments(mean_full, cov_full)\n",
    "\n",
    "                cost = cost + eq_agent.cost.expected_cost(loc[None, :], cov)\n",
    "\n",
    "        gradients = tape.gradient(cost, eq_agent.policy.parameters)\n",
    "\n",
    "        optimiser.apply_gradients(zip(gradients, eq_agent.policy.parameters))\n",
    "\n",
    "        # print(cost)\n",
    "    \n",
    "    print(cost)\n",
    "        \n",
    "    print(f'Performing episode {episode + 1}:')\n",
    "    \n",
    "    state = env.reset()\n",
    "    \n",
    "    for step in trange(num_steps):\n",
    "        \n",
    "        action = eq_agent.act(state)\n",
    "        state, action, next_state = env.step(action[None].numpy())\n",
    "        eq_agent.observe(state, action, next_state)"
   ]
  },
  {
   "cell_type": "code",
   "execution_count": null,
   "metadata": {},
   "outputs": [],
   "source": [
    "gradients"
   ]
  },
  {
   "cell_type": "code",
   "execution_count": null,
   "metadata": {},
   "outputs": [],
   "source": []
  },
  {
   "cell_type": "code",
   "execution_count": null,
   "metadata": {},
   "outputs": [],
   "source": []
  }
 ],
 "metadata": {
  "kernelspec": {
   "display_name": "Python 3",
   "language": "python",
   "name": "python3"
  },
  "language_info": {
   "codemirror_mode": {
    "name": "ipython",
    "version": 3
   },
   "file_extension": ".py",
   "mimetype": "text/x-python",
   "name": "python",
   "nbconvert_exporter": "python",
   "pygments_lexer": "ipython3",
   "version": "3.7.3"
  }
 },
 "nbformat": 4,
 "nbformat_minor": 4
}
