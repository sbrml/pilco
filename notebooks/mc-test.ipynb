{
 "cells": [
  {
   "cell_type": "code",
   "execution_count": 1,
   "metadata": {},
   "outputs": [],
   "source": [
    "%matplotlib inline"
   ]
  },
  {
   "cell_type": "code",
   "execution_count": 1,
   "metadata": {},
   "outputs": [],
   "source": [
    "import tensorflow as tf\n",
    "import tensorflow_probability as tfp\n",
    "tfd = tfp.distributions\n",
    "\n",
    "import numpy as np\n",
    "\n",
    "from pilco.policies import RBFPolicy, TransformedPolicy\n",
    "\n",
    "from pilco.transforms import SineTransform, CosineTransform, AbsoluteValueTransform\n",
    "\n",
    "from pilco.agents.agents import EQGPAgent\n",
    "from pilco.costs.costs import EQCost\n",
    "from pilco.environments import Environment\n",
    "\n",
    "from pilco.utils import get_complementary_indices\n",
    "\n",
    "import matplotlib.pyplot as plt\n",
    "from mpl_toolkits.mplot3d import Axes3D\n",
    "\n",
    "from tqdm import trange"
   ]
  },
  {
   "cell_type": "code",
   "execution_count": 3,
   "metadata": {},
   "outputs": [],
   "source": [
    "loc = tf.range(3) + 1\n",
    "cov = loc[None, :] * loc[:, None]\n",
    "\n",
    "rep = 3\n",
    "\n",
    "indices = tf.convert_to_tensor([0], dtype=tf.int32)[:, None]\n"
   ]
  },
  {
   "cell_type": "code",
   "execution_count": 4,
   "metadata": {},
   "outputs": [
    {
     "data": {
      "text/plain": [
       "<tf.Tensor: shape=(3, 3), dtype=int32, numpy=\n",
       "array([[1, 2, 3],\n",
       "       [2, 4, 6],\n",
       "       [3, 6, 9]], dtype=int32)>"
      ]
     },
     "execution_count": 4,
     "metadata": {},
     "output_type": "execute_result"
    }
   ],
   "source": [
    "cov"
   ]
  },
  {
   "cell_type": "code",
   "execution_count": 5,
   "metadata": {},
   "outputs": [],
   "source": [
    "def recursive_replicate(loc, cov, indices):\n",
    "    \n",
    "    indices_a = indices\n",
    "    indices_b = get_complementary_indices(indices[:, 0], 3)[:, None]\n",
    "\n",
    "    indices_aa = tf.stack(tf.meshgrid(indices_a, indices_a), axis=2)\n",
    "    indices_bb = tf.stack(tf.meshgrid(indices_b, indices_b), axis=2)\n",
    "\n",
    "    indices_ab = tf.stack(tf.meshgrid(indices_b, indices_a), axis=2)\n",
    "    indices_ba = tf.stack(tf.meshgrid(indices_a, indices_b), axis=2)\n",
    "    \n",
    "    loc_a = tf.gather_nd(loc, indices_a)\n",
    "    loc_b = tf.gather_nd(loc, indices_b)\n",
    "    \n",
    "    rep_loc_a = tf.tile(loc_a, [rep])\n",
    "    \n",
    "    rep_loc = tf.concat([rep_loc_a])\n",
    "    \n",
    "    cov_aa = tf.gather_nd(cov, indices_aa) \n",
    "    cov_ab = tf.gather_nd(cov, indices_ab) \n",
    "    cov_ba = tf.gather_nd(cov, indices_ba) \n",
    "    cov_bb = tf.gather_nd(cov, indices_bb) \n",
    "    \n",
    "    rep_cov_aa = tf.tile(cov_aa, [rep, rep])\n",
    "    rep_cov_ab = tf.tile(cov_ab, [rep, 1])\n",
    "    rep_cov_ba = tf.tile(cov_ba, [1, rep])\n",
    "\n",
    "    row_blocks = [\n",
    "        tf.concat([rep_cov_aa, rep_cov_ab], axis=1),\n",
    "        tf.concat([rep_cov_ba, cov_bb], axis=1),\n",
    "    ]\n",
    "\n",
    "    rep_cov = tf.concat(row_blocks, axis=0)\n",
    "    rep_cov"
   ]
  },
  {
   "cell_type": "markdown",
   "metadata": {},
   "source": [
    "# Policy: match moments (closed form and MC)"
   ]
  },
  {
   "cell_type": "markdown",
   "metadata": {},
   "source": [
    "## RBF Policy"
   ]
  },
  {
   "cell_type": "code",
   "execution_count": 6,
   "metadata": {},
   "outputs": [],
   "source": [
    "rbf_policy = RBFPolicy(2, 1, 5, dtype=tf.float32)\n",
    "rbf_policy.reset()"
   ]
  },
  {
   "cell_type": "code",
   "execution_count": 7,
   "metadata": {
    "scrolled": true
   },
   "outputs": [
    {
     "name": "stdout",
     "output_type": "stream",
     "text": [
      "All eigenvalues are postive: True\n",
      "mean_full:\n",
      "[[0.         0.         0.00667517]]\n",
      "cov_full:\n",
      "[[ 1.0000000e+00  0.0000000e+00 -1.3687690e-03]\n",
      " [ 0.0000000e+00  1.0000000e+00  1.3924029e-02]\n",
      " [-1.3687690e-03  1.3924029e-02  4.2931631e-04]]\n"
     ]
    }
   ],
   "source": [
    "loc = tf.zeros(2, dtype=tf.float32)\n",
    "cov = tf.eye(2, dtype=tf.float32)\n",
    "\n",
    "mean_full, cov_full = rbf_policy.match_moments(loc, cov)\n",
    "\n",
    "print('All eigenvalues are postive:', bool(tf.reduce_all(tf.cast(tf.linalg.eig(cov_full)[0], dtype=tf.float32) > 0)))\n",
    "\n",
    "print(f'mean_full:\\n{mean_full.numpy()}')\n",
    "print(f'cov_full:\\n{cov_full.numpy()}')"
   ]
  },
  {
   "cell_type": "code",
   "execution_count": 8,
   "metadata": {},
   "outputs": [
    {
     "name": "stderr",
     "output_type": "stream",
     "text": [
      "100%|██████████| 1000/1000 [00:00<00:00, 1343.67it/s]\n"
     ]
    }
   ],
   "source": [
    "num_samples = 10**3\n",
    "\n",
    "states = []\n",
    "actions = []\n",
    "\n",
    "for i in trange(num_samples):\n",
    "    \n",
    "    s = tf.random.normal(mean=0., stddev=1., shape=(2,))\n",
    "    \n",
    "    u = rbf_policy(s)\n",
    "    \n",
    "    states.append(s)\n",
    "    actions.append(u)\n",
    "    \n",
    "s = tf.convert_to_tensor(states)\n",
    "u = tf.convert_to_tensor(actions)"
   ]
  },
  {
   "cell_type": "code",
   "execution_count": 9,
   "metadata": {},
   "outputs": [
    {
     "name": "stdout",
     "output_type": "stream",
     "text": [
      "MC mean_full:\n",
      "[[ 0.06094525 -0.0283494   0.00628087]]\n",
      "MC cov_full:\n",
      "[[ 9.5682728e-01  2.9136797e-02 -1.5500166e-03]\n",
      " [ 2.9136797e-02  9.9248463e-01  1.3538798e-02]\n",
      " [-1.5500166e-03  1.3538798e-02  3.8743592e-04]]\n"
     ]
    }
   ],
   "source": [
    "su_samples = tf.concat([s, u[..., None]], axis=-1)\n",
    "\n",
    "print('MC mean_full:')\n",
    "mean_full = tf.reduce_mean(su_samples, axis=0)[None, ...]\n",
    "print(mean_full.numpy())\n",
    "\n",
    "print('MC cov_full:')\n",
    "cov_full = (tf.einsum('ij, ik -> jk', su_samples, su_samples) / su_samples.shape[0])\n",
    "cov_full = cov_full - (tf.einsum('ij, ik -> jk', mean_full, mean_full) / mean_full.shape[0])\n",
    "print(cov_full.numpy())"
   ]
  },
  {
   "cell_type": "markdown",
   "metadata": {},
   "source": [
    "## Sine Bounded RBF Policy"
   ]
  },
  {
   "cell_type": "code",
   "execution_count": 10,
   "metadata": {},
   "outputs": [],
   "source": [
    "rbf_policy = RBFPolicy(2, 1, 5, dtype=tf.float32)\n",
    "\n",
    "sine_transform = SineTransform(lower=-2, upper=10)\n",
    "\n",
    "sb_rbf_policy = TransformedPolicy(rbf_policy, sine_transform)\n",
    "sb_rbf_policy.reset()"
   ]
  },
  {
   "cell_type": "code",
   "execution_count": 11,
   "metadata": {
    "scrolled": false
   },
   "outputs": [
    {
     "name": "stdout",
     "output_type": "stream",
     "text": [
      "All eigenvalues are postive: True\n",
      "mean_full:\n",
      "[[0.         0.         4.66236723]]\n",
      "cov_full:\n",
      "[[1.         0.         0.00729006]\n",
      " [0.         1.         0.6906136 ]\n",
      " [0.00729006 0.6906136  0.78522381]]\n"
     ]
    }
   ],
   "source": [
    "loc = tf.zeros(2, dtype=tf.float32)\n",
    "cov = tf.eye(2, dtype=tf.float32)\n",
    "\n",
    "# mean_full_ = tf.convert_to_tensor([[ 0.,        0.,         -0.25994033]], dtype=tf.float32)\n",
    "# cov_full_ = tf.convert_to_tensor([[1.,         0.,         0.09250697],\n",
    "#  [0.,         1.,         0.06342697],\n",
    "#  [0.09250697, 0.06342697, 0.16243385]], dtype=tf.float32)\n",
    "\n",
    "# joint_dist_ = tfd.MultivariateNormalTriL(loc=mean_full_,\n",
    "#                                         scale_tril=tf.linalg.cholesky(cov_full_))\n",
    "\n",
    "mean_full, cov_full = sb_rbf_policy.match_moments(loc, cov)\n",
    "\n",
    "print('All eigenvalues are postive:', bool(tf.reduce_all(tf.cast(tf.linalg.eig(cov_full)[0], dtype=tf.float32) > 0)))\n",
    "\n",
    "print(f'mean_full:\\n{mean_full.numpy()}')\n",
    "print(f'cov_full:\\n{cov_full.numpy()}')"
   ]
  },
  {
   "cell_type": "code",
   "execution_count": 12,
   "metadata": {},
   "outputs": [
    {
     "name": "stderr",
     "output_type": "stream",
     "text": [
      "100%|██████████| 1000/1000 [00:01<00:00, 522.95it/s]\n"
     ]
    }
   ],
   "source": [
    "num_samples = 10**3\n",
    "\n",
    "states = []\n",
    "actions = []\n",
    "\n",
    "for i in trange(num_samples):\n",
    "    \n",
    "#     samp = joint_dist_.sample()\n",
    "#     s = samp[0, :2]\n",
    "    s = tf.random.normal(mean=0., stddev=1., shape=(2,))\n",
    "    \n",
    "    u = sb_rbf_policy(s)\n",
    "    \n",
    "    states.append(s)\n",
    "    actions.append(u)\n",
    "    \n",
    "s = tf.cast(tf.convert_to_tensor(states), tf.float64)\n",
    "u = tf.convert_to_tensor(actions)"
   ]
  },
  {
   "cell_type": "code",
   "execution_count": 13,
   "metadata": {},
   "outputs": [
    {
     "name": "stdout",
     "output_type": "stream",
     "text": [
      "MC mean_full:\n",
      "[[-0.02674179  0.01334794  4.65584247]]\n",
      "MC cov_full:\n",
      "tf.Tensor(\n",
      "[[ 1.03878709 -0.00609876  0.00745871]\n",
      " [-0.00609876  0.97585427  0.68615149]\n",
      " [ 0.00745871  0.68615149  0.74104889]], shape=(3, 3), dtype=float64)\n"
     ]
    }
   ],
   "source": [
    "su_samples = tf.concat([s, u], axis=-1)\n",
    "\n",
    "print('MC mean_full:')\n",
    "mean_full = tf.reduce_mean(su_samples, axis=0)[None, ...]\n",
    "print(mean_full.numpy())\n",
    "\n",
    "print('MC cov_full:')\n",
    "cov_full = (tf.einsum('ij, ik -> jk', su_samples, su_samples) / su_samples.shape[0])\n",
    "cov_full = cov_full - (tf.einsum('ij, ik -> jk', mean_full, mean_full) / mean_full.shape[0])\n",
    "print(cov_full)"
   ]
  },
  {
   "cell_type": "markdown",
   "metadata": {},
   "source": [
    "# Agent: match moments (closed form and MC)\n",
    "\n",
    "## Add dummy data to agent"
   ]
  },
  {
   "cell_type": "code",
   "execution_count": 7,
   "metadata": {
    "scrolled": true
   },
   "outputs": [
    {
     "name": "stderr",
     "output_type": "stream",
     "text": [
      "/Users/gergelyflamich/Documents/sbrml/pilco/pilco-venv/lib/python3.7/site-packages/gym/logger.py:30: UserWarning: \u001b[33mWARN: Box bound precision lowered by casting to float32\u001b[0m\n",
      "  warnings.warn(colorize('%s: %s'%('WARN', msg % args), 'yellow'))\n"
     ]
    }
   ],
   "source": [
    "tf.random.set_seed(24)\n",
    "\n",
    "rbf_policy = RBFPolicy(state_dim=2,\n",
    "                       action_dim=1,\n",
    "                       num_rbf_features=5,\n",
    "                       dtype=tf.float64)\n",
    "\n",
    "sine_transform = SineTransform(lower=-20,\n",
    "                               upper=15)\n",
    "\n",
    "sb_rbf_policy = TransformedPolicy(rbf_policy,\n",
    "                                  sine_transform)\n",
    "\n",
    "# rbf_policy.reset()\n",
    "sb_rbf_policy.reset()\n",
    "\n",
    "cost_transform = CosineTransform(lower=-1,\n",
    "                                 upper=1)\n",
    "\n",
    "eq_cost = EQCost(target_loc=tf.ones((1, 3)),\n",
    "                 target_scale=tf.ones((1, 3)),\n",
    "                 target_dim=3,\n",
    "                 transform=cost_transform,\n",
    "                 dtype=tf.float64)\n",
    "\n",
    "eq_agent = EQGPAgent(in_state_dim=2,\n",
    "                     out_state_dim=2,\n",
    "                     action_dim=1,\n",
    "                     policy=sb_rbf_policy,\n",
    "                     cost=eq_cost,\n",
    "                     dtype=tf.float64)\n",
    "\n",
    "# Create pendulum environment from Gym\n",
    "env = Environment(name='Pendulum-v0')\n",
    "env.reset()\n",
    "\n",
    "num_episodes = 50\n",
    "num_steps = 1\n",
    "\n",
    "for episode in range(num_episodes):\n",
    "    \n",
    "    state = env.reset()\n",
    "    \n",
    "    state = np.array([np.pi, 8]) * (2 * np.random.uniform(size=(2,)) - 1)\n",
    "    env.env.env.state = state\n",
    "    \n",
    "    \n",
    "    for step in range(num_steps):\n",
    "        \n",
    "        action = tf.random.uniform(shape=()) * 4. - 2\n",
    "        state, action, next_state = env.step(action[None].numpy())\n",
    "        \n",
    "        eq_agent.observe(state, action, next_state)"
   ]
  },
  {
   "cell_type": "code",
   "execution_count": 15,
   "metadata": {},
   "outputs": [],
   "source": [
    "eq_agent.set_eq_scales_from_data()"
   ]
  },
  {
   "cell_type": "code",
   "execution_count": 14,
   "metadata": {},
   "outputs": [
    {
     "data": {
      "text/plain": [
       "<tf.Variable 'rbf_locs/reparametrization:0' shape=(5, 2) dtype=float64, numpy=\n",
       "array([[-1.11431193,  5.64905343],\n",
       "       [-0.59168532,  6.44369087],\n",
       "       [-8.26966077,  3.81488737],\n",
       "       [ 4.1825065 ,  0.23314725],\n",
       "       [ 7.6082125 , -2.44129837]])>"
      ]
     },
     "execution_count": 14,
     "metadata": {},
     "output_type": "execute_result"
    }
   ],
   "source": [
    "eq_agent.policy.policy.rbf_locs()"
   ]
  },
  {
   "cell_type": "code",
   "execution_count": 17,
   "metadata": {},
   "outputs": [],
   "source": [
    "eq_agent.save_weights(\"../saved_agents/test_model/model\")"
   ]
  },
  {
   "cell_type": "code",
   "execution_count": 18,
   "metadata": {},
   "outputs": [],
   "source": [
    "rbf_policy = RBFPolicy(state_dim=2,\n",
    "                       action_dim=1,\n",
    "                       num_rbf_features=5,\n",
    "                       dtype=tf.float64)\n",
    "\n",
    "sine_transform = SineTransform(lower=-20,\n",
    "                               upper=15)\n",
    "\n",
    "sb_rbf_policy = TransformedPolicy(rbf_policy,\n",
    "                                  sine_transform)\n",
    "\n",
    "# rbf_policy.reset()\n",
    "sb_rbf_policy.reset()\n",
    "\n",
    "cost_transform = CosineTransform(lower=-1,\n",
    "                                 upper=1)\n",
    "\n",
    "eq_cost = EQCost(target_loc=tf.ones((1, 3)),\n",
    "                 target_scale=tf.ones((1, 3)),\n",
    "                 target_dim=3,\n",
    "                 transform=cost_transform,\n",
    "                 dtype=tf.float64)\n",
    "\n",
    "eq_agent_ = EQGPAgent(in_state_dim=2,\n",
    "                     out_state_dim=2,\n",
    "                     action_dim=1,\n",
    "                     policy=sb_rbf_policy,\n",
    "                     cost=eq_cost,\n",
    "                     dtype=tf.float64)"
   ]
  },
  {
   "cell_type": "code",
   "execution_count": 21,
   "metadata": {},
   "outputs": [
    {
     "data": {
      "text/plain": [
       "<tensorflow.python.training.tracking.util.CheckpointLoadStatus at 0x13fef92d0>"
      ]
     },
     "execution_count": 21,
     "metadata": {},
     "output_type": "execute_result"
    }
   ],
   "source": [
    "eq_agent_.load_weights(\"../saved_agents/test_model/model\")"
   ]
  },
  {
   "cell_type": "code",
   "execution_count": 26,
   "metadata": {},
   "outputs": [
    {
     "data": {
      "text/plain": [
       "<tf.Variable 'rbf_locs/reparametrization:0' shape=(5, 2) dtype=float64, numpy=\n",
       "array([[-1.11431193,  5.64905343],\n",
       "       [-0.59168532,  6.44369087],\n",
       "       [-8.26966077,  3.81488737],\n",
       "       [ 4.1825065 ,  0.23314725],\n",
       "       [ 7.6082125 , -2.44129837]])>"
      ]
     },
     "execution_count": 26,
     "metadata": {},
     "output_type": "execute_result"
    }
   ],
   "source": [
    "eq_agent_.policy.policy.rbf_locs()"
   ]
  },
  {
   "cell_type": "code",
   "execution_count": 25,
   "metadata": {},
   "outputs": [
    {
     "data": {
      "text/plain": [
       "<tf.Variable 'rbf_locs/reparametrization:0' shape=(5, 2) dtype=float64, numpy=\n",
       "array([[-1.11431193,  5.64905343],\n",
       "       [-0.59168532,  6.44369087],\n",
       "       [-8.26966077,  3.81488737],\n",
       "       [ 4.1825065 ,  0.23314725],\n",
       "       [ 7.6082125 , -2.44129837]])>"
      ]
     },
     "execution_count": 25,
     "metadata": {},
     "output_type": "execute_result"
    }
   ],
   "source": [
    "eq_agent.policy.policy.rbf_locs()"
   ]
  },
  {
   "cell_type": "markdown",
   "metadata": {},
   "source": [
    "## Match moments analytically"
   ]
  },
  {
   "cell_type": "code",
   "execution_count": 15,
   "metadata": {
    "scrolled": false
   },
   "outputs": [],
   "source": [
    "state_loc = 1. * tf.ones(2, dtype=tf.float64)\n",
    "state_cov = 10. * tf.eye(2, dtype=tf.float64)\n",
    "\n",
    "# Match moments for the joint state-action distribution\n",
    "mean_full, cov_full = sb_rbf_policy.match_moments(state_loc, state_cov)\n",
    "\n",
    "# mean_full = 0. * tf.ones((1, 3), dtype=tf.float64)\n",
    "# cov_full = 1. * tf.eye(3, dtype=tf.float64)\n",
    "\n",
    "joint_dist = tfd.MultivariateNormalTriL(loc=mean_full,\n",
    "                                        scale_tril=tf.linalg.cholesky(cov_full))"
   ]
  },
  {
   "cell_type": "markdown",
   "metadata": {},
   "source": [
    "## Match moments by MC"
   ]
  },
  {
   "cell_type": "code",
   "execution_count": 16,
   "metadata": {},
   "outputs": [
    {
     "name": "stderr",
     "output_type": "stream",
     "text": [
      "100%|██████████| 1000/1000 [00:09<00:00, 102.42it/s]\n"
     ]
    }
   ],
   "source": [
    "num_samples = 10**3\n",
    "\n",
    "means = []\n",
    "covs = []\n",
    "state_actions = []\n",
    "\n",
    "# MC approx\n",
    "for i in trange(num_samples):\n",
    "    \n",
    "    state_action = joint_dist.sample()\n",
    "    \n",
    "    #Note: mean is the expectation of the deltas!\n",
    "    mean, cov = eq_agent.gp_posterior_predictive(state_action)\n",
    "    means.append(mean)\n",
    "    \n",
    "    covs.append(cov)\n",
    "    state_actions.append(state_action)\n",
    "    \n",
    "means = tf.concat(means, axis=0)\n",
    "covs = tf.stack(covs, axis=0)\n",
    "state_actions = tf.stack(state_actions, axis=0)"
   ]
  },
  {
   "cell_type": "code",
   "execution_count": 17,
   "metadata": {},
   "outputs": [
    {
     "name": "stdout",
     "output_type": "stream",
     "text": [
      "Cov[E(Δ | x)]:\n",
      "[[0.00095256 0.00084496]\n",
      " [0.00087918 0.01035071]]\n",
      "E[Cov(Δ | x)]:\n",
      "[[0.95802774 0.        ]\n",
      " [0.         0.95802774]]\n",
      "Cov[x, Δ]:\n",
      "[[0.00481388 0.03068058]\n",
      " [0.02756821 0.00105548]]\n",
      "Emp mean:\n",
      "[[1.00398675 1.00707913]]\n",
      "Emp cov:\n",
      "[[10.96860806  0.05909375]\n",
      " [ 0.05912797 10.97048941]]\n"
     ]
    }
   ],
   "source": [
    "emp_mean = tf.reduce_mean(means, axis=0)\n",
    "\n",
    "cov_mean_delta = tf.reduce_mean(means[:, None, :] * means[:, :, None], axis=0)\n",
    "cov_mean_delta = cov_mean_delta - emp_mean * tf.transpose(emp_mean)\n",
    "print(f'Cov[E(Δ | x)]:\\n{cov_mean_delta}')\n",
    "mean_cov_delta = tf.linalg.diag(tf.reduce_mean(covs, axis=[0, 1]))\n",
    "print(f'E[Cov(Δ | x)]:\\n{mean_cov_delta}')\n",
    "\n",
    "states = state_actions[:, :, :eq_agent.out_state_dim]\n",
    "emp_cross_cov = tf.reduce_mean(states * means[:, :, None], axis=0)\n",
    "emp_cross_cov = emp_cross_cov - tf.reduce_mean(states, axis=0) * tf.reduce_mean(means[:, :, None], axis=0)\n",
    "print(f\"Cov[x, Δ]:\\n{tf.transpose(emp_cross_cov)}\")\n",
    "\n",
    "emp_mean = tf.reduce_mean(means, axis=0) + mean_full[:, :eq_agent.out_state_dim]\n",
    "emp_cov = cov_full[:eq_agent.out_state_dim, :eq_agent.out_state_dim] \n",
    "emp_cov = emp_cov + cov_mean_delta + mean_cov_delta + emp_cross_cov + tf.transpose(emp_cross_cov)\n",
    "print(f\"Emp mean:\\n{emp_mean}\")\n",
    "print(f\"Emp cov:\\n{emp_cov}\")"
   ]
  },
  {
   "cell_type": "code",
   "execution_count": 18,
   "metadata": {},
   "outputs": [
    {
     "name": "stdout",
     "output_type": "stream",
     "text": [
      "==================================================\n",
      "Analytic mean:\n",
      "[1.00324003 1.00917405]\n",
      "Analytic cov:\n",
      "[[10.96942484  0.06420251]\n",
      " [ 0.06420251 10.96994761]]\n"
     ]
    }
   ],
   "source": [
    "m, c = eq_agent.match_moments(mean_full, cov_full)\n",
    "print(50 * '=')\n",
    "print(f\"Analytic mean:\\n{m}\")\n",
    "print(f\"Analytic cov:\\n{c}\")"
   ]
  },
  {
   "cell_type": "code",
   "execution_count": 19,
   "metadata": {},
   "outputs": [
    {
     "name": "stderr",
     "output_type": "stream",
     "text": [
      "100%|██████████| 1000/1000 [00:09<00:00, 103.41it/s]\n"
     ]
    }
   ],
   "source": [
    "num_samples = 10**3\n",
    "\n",
    "emp_costs = []\n",
    "\n",
    "for s in trange(num_samples):\n",
    "    \n",
    "    sample = joint_dist.sample()\n",
    "    \n",
    "    c = eq_cost(sample)\n",
    "    \n",
    "    emp_costs.append(c)\n",
    "    \n",
    "emp_costs = tf.stack(emp_costs)"
   ]
  },
  {
   "cell_type": "code",
   "execution_count": 20,
   "metadata": {},
   "outputs": [
    {
     "data": {
      "text/plain": [
       "<tf.Tensor: shape=(), dtype=float64, numpy=0.9862097402329655>"
      ]
     },
     "execution_count": 20,
     "metadata": {},
     "output_type": "execute_result"
    }
   ],
   "source": [
    "emp_cost = tf.reduce_mean(emp_costs)\n",
    "emp_cost"
   ]
  },
  {
   "cell_type": "code",
   "execution_count": 21,
   "metadata": {},
   "outputs": [
    {
     "data": {
      "text/plain": [
       "<tf.Tensor: shape=(), dtype=float64, numpy=0.9876958281695086>"
      ]
     },
     "execution_count": 21,
     "metadata": {},
     "output_type": "execute_result"
    }
   ],
   "source": [
    "eq_cost.expected_cost(loc=mean_full,\n",
    "                      cov=cov_full)"
   ]
  },
  {
   "cell_type": "markdown",
   "metadata": {},
   "source": [
    "# Checking accuracy of GP dynamics model"
   ]
  },
  {
   "cell_type": "code",
   "execution_count": 22,
   "metadata": {},
   "outputs": [],
   "source": [
    "def sample_transitions_uniformly(num_episodes, num_steps, seed):\n",
    "    \n",
    "    np.random.seed(seed)\n",
    "    \n",
    "    # Create pendulum environment from Gym\n",
    "    env = Environment(name='Pendulum-v0')\n",
    "    env.reset()\n",
    "    \n",
    "    state_actions = []\n",
    "    next_states = []\n",
    "\n",
    "    for episode in range(num_episodes):\n",
    "\n",
    "        state = env.reset()\n",
    "\n",
    "        state = np.array([np.pi, 8]) * (2 * np.random.uniform(size=(2,)) - 1)\n",
    "        env.env.env.state = state\n",
    "\n",
    "\n",
    "        for step in range(num_steps):\n",
    "\n",
    "            action = tf.random.uniform(shape=()) * 4. - 2\n",
    "            state, action, next_state = env.step(action[None].numpy())\n",
    "            \n",
    "            state_action = np.concatenate([state, action], axis=0)\n",
    "            \n",
    "            state_actions.append(state_action)\n",
    "            next_states.append(next_state)\n",
    "            \n",
    "    state_actions = np.stack(state_actions, axis=0)\n",
    "    next_states = np.stack(next_states, axis=0)\n",
    "            \n",
    "    return state_actions, next_states"
   ]
  },
  {
   "cell_type": "code",
   "execution_count": 23,
   "metadata": {},
   "outputs": [],
   "source": [
    "def evaluate_agent_dynamics(agent, test_data):\n",
    "    \n",
    "    test_inputs, test_outputs = test_data\n",
    "    \n",
    "    pred_means, pred_vars = agent.gp_posterior_predictive(test_inputs)\n",
    "    pred_means = pred_means + test_inputs[:, :2]\n",
    "    \n",
    "    sq_diff = tf.math.squared_difference(pred_means,\n",
    "                                         test_outputs)\n",
    "    \n",
    "    max_diff = tf.reduce_max(sq_diff ** 0.5, axis=0)\n",
    "    min_diff = tf.reduce_min(sq_diff ** 0.5, axis=0)\n",
    "    \n",
    "    rmse = tf.reduce_mean(sq_diff, axis=0) ** 0.5\n",
    "    smse = tf.reduce_mean(sq_diff / pred_vars, axis=0)\n",
    "    \n",
    "    rmse = [round(num, 3) for num in rmse.numpy()]\n",
    "    smse = [round(num, 3) for num in smse.numpy()]\n",
    "    max_diff = [round(num, 3) for num in max_diff.numpy()]\n",
    "    min_diff = [round(num, 3) for num in min_diff.numpy()]\n",
    "    \n",
    "    print(f'RMSE: {rmse} SMSE {smse} Min {min_diff} Max {max_diff}')"
   ]
  },
  {
   "cell_type": "code",
   "execution_count": 24,
   "metadata": {},
   "outputs": [],
   "source": [
    "rbf_policy = RBFPolicy(state_dim=2,\n",
    "                       action_dim=1,\n",
    "                       num_rbf_features=5,\n",
    "                       dtype=tf.float64)\n",
    "rbf_policy.reset()\n",
    "\n",
    "cost_tr = CosineTransform(lower=-1,\n",
    "                         upper=1)\n",
    "\n",
    "eq_cost = EQCost(target_loc=tf.ones((1, 3)),\n",
    "                 target_scale=tf.ones((1, 3)),\n",
    "                 target_dim=3,\n",
    "                 transform=cost_tr,\n",
    "                 dtype=tf.float64)\n",
    "\n",
    "eq_agent = EQGPAgent(in_state_dim=2,\n",
    "                     out_state_dim=2,\n",
    "                     action_dim=1,\n",
    "                     policy=rbf_policy,\n",
    "                     cost=eq_cost,\n",
    "                     dtype=tf.float64)\n",
    "\n",
    "train_state_actions, train_next_states = sample_transitions_uniformly(100, 1, seed=0)\n",
    "\n",
    "eq_agent.observe(train_state_actions[:, :2], train_state_actions[:, 2:3], train_next_states)\n",
    "\n",
    "eq_agent.set_eq_scales_from_data()"
   ]
  },
  {
   "cell_type": "code",
   "execution_count": 25,
   "metadata": {},
   "outputs": [
    {
     "name": "stdout",
     "output_type": "stream",
     "text": [
      "RMSE: [0.013, 0.08] SMSE [0.003, 0.218] Min [0.0, 0.0] Max [0.097, 0.558]\n"
     ]
    }
   ],
   "source": [
    "test_data = sample_transitions_uniformly(1000, 1, seed=1)\n",
    "\n",
    "evaluate_agent_dynamics(eq_agent, test_data)"
   ]
  },
  {
   "cell_type": "code",
   "execution_count": 26,
   "metadata": {},
   "outputs": [
    {
     "data": {
      "text/plain": [
       "<tf.Tensor: shape=(), dtype=float64, numpy=9.999374778679737e-05>"
      ]
     },
     "execution_count": 26,
     "metadata": {},
     "output_type": "execute_result"
    }
   ],
   "source": [
    "eq_cost.expected_cost(tf.constant([[0, 1, 1]]), 1e-4 * tf.eye(3))"
   ]
  },
  {
   "cell_type": "markdown",
   "metadata": {},
   "source": [
    "# Check absolute value transform"
   ]
  },
  {
   "cell_type": "code",
   "execution_count": 27,
   "metadata": {},
   "outputs": [
    {
     "name": "stdout",
     "output_type": "stream",
     "text": [
      "[1.93142917] 2.1226120073807357\n",
      "tf.Tensor([1.93221809], shape=(1,), dtype=float64) tf.Tensor([[2.12971678]], shape=(1, 1), dtype=float64)\n"
     ]
    }
   ],
   "source": [
    "num_dim = 1\n",
    "num_samples = 10000\n",
    "\n",
    "mean = np.random.uniform(low=-3., high=3., size=(num_dim,))\n",
    "cov = np.random.uniform(low=-2., high=3., size=(num_dim, num_dim))\n",
    "cov = 1e-6 * np.eye(num_dim) + np.dot(cov.T, cov)\n",
    "\n",
    "x = np.random.multivariate_normal(mean=mean, cov=cov, size=(num_samples,))\n",
    "abs_x = np.abs(x)\n",
    "abs_x = np.mean(abs_x, axis=0)\n",
    "\n",
    "print(abs_x, np.var(np.abs(x)))\n",
    "\n",
    "mean = tf.convert_to_tensor(mean)\n",
    "cov = tf.convert_to_tensor(cov)\n",
    "\n",
    "abs_transform = AbsoluteValueTransform()\n",
    "mean, cov = abs_transform.match_moments(mean, cov, indices=tf.constant([0]))\n",
    "\n",
    "print(mean, cov)"
   ]
  },
  {
   "cell_type": "code",
   "execution_count": 28,
   "metadata": {},
   "outputs": [
    {
     "name": "stderr",
     "output_type": "stream",
     "text": [
      "100%|██████████| 1000/1000 [00:09<00:00, 103.43it/s]\n"
     ]
    }
   ],
   "source": [
    "num_samples = 10**3\n",
    "\n",
    "emp_costs = []\n",
    "\n",
    "for s in trange(num_samples):\n",
    "    \n",
    "    sample = joint_dist.sample()\n",
    "    \n",
    "    c = eq_cost(sample)\n",
    "    \n",
    "    emp_costs.append(c)\n",
    "    \n",
    "emp_costs = tf.stack(emp_costs)"
   ]
  }
 ],
 "metadata": {
  "kernelspec": {
   "display_name": "Python 3",
   "language": "python",
   "name": "python3"
  },
  "language_info": {
   "codemirror_mode": {
    "name": "ipython",
    "version": 3
   },
   "file_extension": ".py",
   "mimetype": "text/x-python",
   "name": "python",
   "nbconvert_exporter": "python",
   "pygments_lexer": "ipython3",
   "version": "3.7.6"
  }
 },
 "nbformat": 4,
 "nbformat_minor": 4
}
