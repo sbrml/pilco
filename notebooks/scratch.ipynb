{
 "cells": [
  {
   "cell_type": "code",
   "execution_count": 1,
   "metadata": {},
   "outputs": [],
   "source": [
    "import tensorflow as tf\n",
    "from pilco.policies.rbf_policy import RBFPolicy\n",
    "\n",
    "from tqdm import trange"
   ]
  },
  {
   "cell_type": "code",
   "execution_count": 235,
   "metadata": {},
   "outputs": [],
   "source": [
    "class RBFPolicy(Policy):\n",
    "\n",
    "    def __init__(self,\n",
    "                 state_dim,\n",
    "                 action_dim,\n",
    "                 num_rbf_features,\n",
    "                 dtype,\n",
    "                 name='rbf_policy',\n",
    "                 **kwargs):\n",
    "\n",
    "        super().__init__(state_dim=state_dim,\n",
    "                         action_dim=action_dim,\n",
    "                         name=name,\n",
    "                         **kwargs)\n",
    "\n",
    "        # Set dtype\n",
    "        self.dtype = dtype\n",
    "\n",
    "        # Number of radial basis functions\n",
    "        self.num_rbf_features = num_rbf_features\n",
    "\n",
    "        # Set RBF policy locations\n",
    "        rbf_locs_init = tf.zeros((num_rbf_features, state_dim), dtype=dtype)\n",
    "        self.rbf_locs = tf.Variable(rbf_locs_init, name='rbf_locs')\n",
    "\n",
    "        # Set RBF policy lengthscales\n",
    "        rbf_log_scales_init = tf.zeros((1, state_dim), dtype=dtype)\n",
    "        self.rbf_log_scales = tf.Variable(rbf_log_scales_init,\n",
    "                                          name='rbf_log_scales')\n",
    "\n",
    "        # Set RBF policy weights\n",
    "        rbf_weights_init = tf.zeros((num_rbf_features,), dtype=dtype)\n",
    "        self.rbf_weights = tf.Variable(rbf_weights_init,\n",
    "                                       name='rbf_weights')\n",
    "\n",
    "\n",
    "    def reset(self):\n",
    "        # Sample policy parameters from standard normal\n",
    "        for param in [self.rbf_locs, self.rbf_log_scales, self.rbf_weights]:\n",
    "\n",
    "            param.assign(tf.random.normal(mean=0, stddev=1, shape=param.shape))\n",
    "\n",
    "\n",
    "    def match_moments(self, loc, cov):\n",
    "\n",
    "        # Convert state mean to tensor and reshape to be rank 2\n",
    "        loc = tf.convert_to_tensor(loc, dtype=self.dtype)\n",
    "        loc = tf.reshape(loc, (1, self.state_dim))\n",
    "\n",
    "        # Convert state covariance to tensor and ensure it's a square matrix\n",
    "        cov = tf.convert_to_tensor(cov, dtype=self.dtype)\n",
    "        cov = tf.reshape(cov, (self.state_dim, self.state_dim))\n",
    "\n",
    "        # Compute mean_u\n",
    "        mean_det_coeff = tf.eye(self.state_dim)\n",
    "        mean_det_coeff = mean_det_coeff + tf.matmul(cov,\n",
    "                                        tf.linalg.diag(1. / self.rbf_scales))\n",
    "        mean_det_coeff = tf.linalg.det(mean_det_coeff) ** -0.5\n",
    "    \n",
    "        scales_plus_cov = self.rbf_scales_mat + cov\n",
    "        scales_plus_cov_inv = tf.linalg.inv(scales_plus_cov)\n",
    "        \n",
    "        diff_mui_mus = self.rbf_locs - loc\n",
    "\n",
    "        mean_u_quad = tf.einsum('ij, jk, ik -> i',\n",
    "                                diff_mui_mus,\n",
    "                                scales_plus_cov_inv,\n",
    "                                diff_mui_mus)\n",
    "\n",
    "        exp_mean_u_quad = tf.math.exp(-0.5 * mean_u_quad)\n",
    "        rbf_comp_mean = mean_det_coeff * exp_mean_u_quad\n",
    "\n",
    "        mean_u = tf.einsum('i, i ->',\n",
    "                           self.rbf_weights,\n",
    "                           rbf_comp_mean)\n",
    "\n",
    "        # Compute cov_su\n",
    "        Q = tf.einsum('ij, jk, lk -> li',\n",
    "                      cov,\n",
    "                      scales_plus_cov_inv,\n",
    "                      self.rbf_locs)\n",
    "\n",
    "        Q = Q + tf.einsum('ij, jk, lk -> li',\n",
    "                          self.rbf_scales_mat,\n",
    "                          scales_plus_cov_inv,\n",
    "                          loc)\n",
    "\n",
    "        Q = Q * rbf_comp_mean[:, None]\n",
    "\n",
    "        cov_su = tf.einsum('i, ij -> j', self.rbf_weights, Q)\n",
    "\n",
    "        cov_su = cov_su - mean_u * tf.squeeze(loc)\n",
    "\n",
    "        # Compute cov_uu\n",
    "        cov_det_coeff = tf.eye(self.state_dim)\n",
    "        cov_det_coeff = cov_det_coeff + 2. * cov / self.rbf_scales\n",
    "        cov_det_coeff = tf.linalg.det(cov_det_coeff) ** -0.5\n",
    "\n",
    "        half_scales_plus_cov = 0.5 * self.rbf_scales_mat + cov\n",
    "        half_scales_plus_cov_inv = tf.linalg.inv(half_scales_plus_cov)\n",
    "        \n",
    "        muij = (self.rbf_locs[None, :, :] + self.rbf_locs[:, None, :]) / 2\n",
    "        \n",
    "        diff_muij_mus = muij - loc[None, :, :]\n",
    "\n",
    "        diff_mui_muj = self.rbf_locs[None, :, :] - self.rbf_locs[:, None, :]\n",
    "        \n",
    "        cov_uu_quad = tf.einsum('ijk, kl, ijl -> ij',\n",
    "                                diff_muij_mus,\n",
    "                                half_scales_plus_cov_inv,\n",
    "                                diff_muij_mus)\n",
    "\n",
    "        cov_uu_quad = cov_uu_quad + 0.5 * tf.einsum('ijk, k, ijk -> ij',\n",
    "                                                    diff_mui_muj,\n",
    "                                                    1. / self.rbf_scales[0],\n",
    "                                                    diff_mui_muj)\n",
    "\n",
    "        exp_cov_uu_quad = tf.math.exp(-0.5 * cov_uu_quad)\n",
    "\n",
    "        S = cov_det_coeff * exp_cov_uu_quad\n",
    "\n",
    "        cov_uu = tf.einsum('i, ij, j ->',\n",
    "                           self.rbf_weights,\n",
    "                           S,\n",
    "                           self.rbf_weights)\n",
    "\n",
    "        cov_uu = cov_uu - mean_u ** 2\n",
    "\n",
    "        return mean_u, cov_su, cov_uu\n",
    "\n",
    "\n",
    "    @property\n",
    "    def rbf_scales(self):\n",
    "        \"\"\"\n",
    "        Returns 1 x state_dim tensor of RBF squared lengthscales.\n",
    "        \"\"\"\n",
    "\n",
    "        return tf.math.exp(self.rbf_log_scales) ** 2\n",
    "\n",
    "\n",
    "    @property\n",
    "    def rbf_scales_mat(self):\n",
    "        \"\"\"\n",
    "        Returns diagonal state_dim x state_dim tensor\n",
    "        of RBF squared lengthscales.\n",
    "        \"\"\"\n",
    "\n",
    "        rbf_scales = self.rbf_scales[0]\n",
    "\n",
    "        return tf.linalg.diag(rbf_scales)\n",
    "\n",
    "\n",
    "    def call(self, state):\n",
    "\n",
    "        # Convert state to tensor and reshape to be rank 2\n",
    "        state = tf.convert_to_tensor(state, dtype=self.dtype)\n",
    "        state = tf.reshape(state, (1, -1))\n",
    "\n",
    "        # Compute quadratic form and exponentiate for each component\n",
    "        diff_state_mui = state - self.rbf_locs\n",
    "        quad = tf.einsum('ik, lk, ik -> i',\n",
    "                         diff_state_mui,\n",
    "                         self.rbf_scales ** -1,\n",
    "                         diff_state_mui)\n",
    "\n",
    "        exp_quad = tf.math.exp(-0.5 * quad)\n",
    "\n",
    "        # RBF output is the weighted sum of rbf components\n",
    "        rbf = tf.einsum('i, i ->',\n",
    "                        self.rbf_weights,\n",
    "                        exp_quad)\n",
    "\n",
    "        return rbf\n"
   ]
  },
  {
   "cell_type": "code",
   "execution_count": 15,
   "metadata": {},
   "outputs": [],
   "source": [
    "rbf_policy = RBFPolicy(2, 1, 5, dtype=tf.float32)\n",
    "rbf_policy.reset()"
   ]
  },
  {
   "cell_type": "code",
   "execution_count": 18,
   "metadata": {},
   "outputs": [
    {
     "name": "stdout",
     "output_type": "stream",
     "text": [
      "tf.Tensor(True, shape=(), dtype=bool)\n",
      "tf.Tensor(\n",
      "[[ 1.          0.          0.02878622]\n",
      " [ 0.          1.         -0.11421954]\n",
      " [ 0.02878622 -0.11421954  0.14421163]], shape=(3, 3), dtype=float32)\n",
      "tf.Tensor(-0.17305398, shape=(), dtype=float32)\n",
      "tf.Tensor([ 0.02878622 -0.11421954], shape=(2,), dtype=float32)\n"
     ]
    }
   ],
   "source": [
    "loc = tf.zeros(2, dtype=tf.float32)\n",
    "cov = tf.eye(2, dtype=tf.float32)\n",
    "\n",
    "mean_u, cov_su, cov_uu = rbf_policy.match_moments(loc, cov)\n",
    "\n",
    "cov1 = tf.concat([cov, cov_su[None, :]], axis=0)\n",
    "cov2 = tf.concat([cov_su[:, None], cov_uu[None, None]], axis=0)\n",
    "\n",
    "cov_full = tf.concat([cov1, cov2], axis=1)\n",
    "\n",
    "print(tf.reduce_all(tf.cast(tf.linalg.eig(cov_full)[0], dtype=tf.float32) > 0))\n",
    "\n",
    "print(cov_full)\n",
    "print(mean_u)\n",
    "print(cov_su)"
   ]
  },
  {
   "cell_type": "code",
   "execution_count": 21,
   "metadata": {},
   "outputs": [
    {
     "name": "stderr",
     "output_type": "stream",
     "text": [
      "100%|██████████| 10000/10000 [00:07<00:00, 1383.06it/s]\n"
     ]
    }
   ],
   "source": [
    "num_samples = 10**4\n",
    "\n",
    "states = []\n",
    "actions = []\n",
    "\n",
    "for i in trange(num_samples):\n",
    "    \n",
    "    s = tf.random.normal(mean=0., stddev=1., shape=(2,))\n",
    "    \n",
    "    u = rbf_policy(s)\n",
    "    \n",
    "    states.append(s)\n",
    "    actions.append(u)\n",
    "    \n",
    "s = tf.convert_to_tensor(states)\n",
    "u = tf.convert_to_tensor(actions)"
   ]
  },
  {
   "cell_type": "code",
   "execution_count": 22,
   "metadata": {},
   "outputs": [
    {
     "data": {
      "text/plain": [
       "array([ 0.02915221, -0.12850176], dtype=float32)"
      ]
     },
     "execution_count": 22,
     "metadata": {},
     "output_type": "execute_result"
    }
   ],
   "source": [
    "emp_mu_u = tf.reduce_mean(u)\n",
    "emp_mu_s = tf.reduce_mean(s)\n",
    "(tf.reduce_mean(s * u[:, None], axis=0) - emp_mu_u * emp_mu_s).numpy()"
   ]
  },
  {
   "cell_type": "code",
   "execution_count": 23,
   "metadata": {},
   "outputs": [
    {
     "data": {
      "text/plain": [
       "(<tf.Tensor: shape=(), dtype=float32, numpy=-0.17906179>,\n",
       " <tf.Tensor: shape=(), dtype=float32, numpy=0.15463084>)"
      ]
     },
     "execution_count": 23,
     "metadata": {},
     "output_type": "execute_result"
    }
   ],
   "source": [
    "tf.nn.moments(u, axes=[0])"
   ]
  },
  {
   "cell_type": "code",
   "execution_count": 24,
   "metadata": {},
   "outputs": [
    {
     "data": {
      "image/png": "[encoded data removed]",
      "text/plain": [
       "<Figure size 432x288 with 1 Axes>"
      ]
     },
     "metadata": {
      "needs_background": "light"
     },
     "output_type": "display_data"
    }
   ],
   "source": [
    "import matplotlib.pyplot as plt\n",
    "\n",
    "plt.hist(u, bins=100)\n",
    "plt.show()"
   ]
  },
  {
   "cell_type": "code",
   "execution_count": null,
   "metadata": {},
   "outputs": [],
   "source": []
  }
 ],
 "metadata": {
  "kernelspec": {
   "display_name": "Python 3",
   "language": "python",
   "name": "python3"
  },
  "language_info": {
   "codemirror_mode": {
    "name": "ipython",
    "version": 3
   },
   "file_extension": ".py",
   "mimetype": "text/x-python",
   "name": "python",
   "nbconvert_exporter": "python",
   "pygments_lexer": "ipython3",
   "version": "3.7.6"
  }
 },
 "nbformat": 4,
 "nbformat_minor": 4
}
