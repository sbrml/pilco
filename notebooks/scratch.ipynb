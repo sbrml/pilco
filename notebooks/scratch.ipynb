{
 "cells": [
  {
   "cell_type": "code",
   "execution_count": 1,
   "metadata": {},
   "outputs": [],
   "source": [
    "%matplotlib inline"
   ]
  },
  {
   "cell_type": "code",
   "execution_count": 2,
   "metadata": {},
   "outputs": [],
   "source": [
    "import tensorflow as tf\n",
    "import tensorflow_probability as tfp\n",
    "tfd = tfp.distributions\n",
    "\n",
    "from pilco.policies.rbf_policy import RBFPolicy\n",
    "from pilco.agents.agents import EQGPAgent\n",
    "\n",
    "import matplotlib.pyplot as plt\n",
    "from mpl_toolkits.mplot3d import Axes3D\n",
    "\n",
    "from tqdm import trange"
   ]
  },
  {
   "cell_type": "code",
   "execution_count": 3,
   "metadata": {},
   "outputs": [],
   "source": [
    "rbf_policy = RBFPolicy(2, 1, 5, dtype=tf.float32)\n",
    "rbf_policy.reset()"
   ]
  },
  {
   "cell_type": "code",
   "execution_count": 4,
   "metadata": {},
   "outputs": [
    {
     "name": "stdout",
     "output_type": "stream",
     "text": [
      "All eigenvalues are postive: True\n",
      "mean_full:\n",
      "[0.         0.         0.04673618]\n",
      "cov_full:\n",
      "[[1.         0.         0.05268468]\n",
      " [0.         1.         0.01972223]\n",
      " [0.05268468 0.01972223 0.07965443]]\n"
     ]
    }
   ],
   "source": [
    "loc = tf.zeros(2, dtype=tf.float32)\n",
    "cov = tf.eye(2, dtype=tf.float32)\n",
    "\n",
    "mean_u, cov_su, cov_uu = rbf_policy.match_moments(loc, cov)\n",
    "\n",
    "cov1 = tf.concat([cov, cov_su[None, :]], axis=0)\n",
    "cov2 = tf.concat([cov_su[:, None], cov_uu[None, None]], axis=0)\n",
    "\n",
    "cov_full = tf.concat([cov1, cov2], axis=1)\n",
    "\n",
    "mean_full = tf.concat([loc, mean_u[None]], axis=0)\n",
    "\n",
    "print('All eigenvalues are postive:', bool(tf.reduce_all(tf.cast(tf.linalg.eig(cov_full)[0], dtype=tf.float32) > 0)))\n",
    "\n",
    "print('mean_full:')\n",
    "print(mean_full.numpy())\n",
    "print('cov_full:')\n",
    "print(cov_full.numpy())"
   ]
  },
  {
   "cell_type": "code",
   "execution_count": 5,
   "metadata": {},
   "outputs": [
    {
     "name": "stderr",
     "output_type": "stream",
     "text": [
      "100%|██████████| 10/10 [00:00<00:00, 449.30it/s]\n"
     ]
    }
   ],
   "source": [
    "num_samples = 10**1\n",
    "\n",
    "states = []\n",
    "actions = []\n",
    "\n",
    "for i in trange(num_samples):\n",
    "    \n",
    "    s = tf.random.normal(mean=0., stddev=1., shape=(2,))\n",
    "    \n",
    "    u = rbf_policy(s)\n",
    "    \n",
    "    states.append(s)\n",
    "    actions.append(u)\n",
    "    \n",
    "s = tf.convert_to_tensor(states)\n",
    "u = tf.convert_to_tensor(actions)"
   ]
  },
  {
   "cell_type": "code",
   "execution_count": 6,
   "metadata": {},
   "outputs": [
    {
     "name": "stdout",
     "output_type": "stream",
     "text": [
      "MC mean_full:\n",
      "[[0.01521944 0.09104783 0.04795003]]\n",
      "MC cov_full:\n",
      "[[ 0.8714018   0.38621718  0.03390636]\n",
      " [ 0.38621718  1.0875224  -0.0288932 ]\n",
      " [ 0.03390636 -0.0288932   0.02015717]]\n"
     ]
    }
   ],
   "source": [
    "su_samples = tf.concat([s, u[..., None]], axis=-1)\n",
    "\n",
    "print('MC mean_full:')\n",
    "mean_full = tf.reduce_mean(su_samples, axis=0)[None, ...]\n",
    "print(mean_full.numpy())\n",
    "\n",
    "print('MC cov_full:')\n",
    "cov_full = (tf.einsum('ij, ik -> jk', su_samples, su_samples) / su_samples.shape[0])\n",
    "cov_full = cov_full - (tf.einsum('ij, ik -> jk', mean_full, mean_full) / mean_full.shape[0])\n",
    "print(cov_full.numpy())"
   ]
  },
  {
   "cell_type": "code",
   "execution_count": 7,
   "metadata": {},
   "outputs": [
    {
     "data": {
      "image/png": "[encoded data removed]",
      "text/plain": [
       "<Figure size 432x288 with 1 Axes>"
      ]
     },
     "metadata": {
      "needs_background": "light"
     },
     "output_type": "display_data"
    }
   ],
   "source": [
    "n = tfd.Normal(loc=mean_u, scale=tf.math.sqrt(cov_uu))\n",
    "\n",
    "xs = tf.linspace(-0.1, .9, 100)\n",
    "ys = n.prob(xs)\n",
    "\n",
    "plt.hist(u, bins=100, density=True)\n",
    "plt.plot(xs, ys)\n",
    "plt.show()"
   ]
  },
  {
   "cell_type": "code",
   "execution_count": 8,
   "metadata": {},
   "outputs": [],
   "source": [
    "tf.random.set_seed(24)\n",
    "\n",
    "rbf_policy = RBFPolicy(state_dim=2,\n",
    "                       action_dim=1,\n",
    "                       num_rbf_features=5,\n",
    "                       dtype=tf.float64)\n",
    "rbf_policy.reset()\n",
    "\n",
    "agent = EQGPAgent(state_dim=2,\n",
    "                  action_dim=1,\n",
    "                  policy=rbf_policy,\n",
    "                  dtype=tf.float64)\n",
    "\n",
    "states = []\n",
    "actions = []\n",
    "next_states = []\n",
    "\n",
    "for i in range(50):\n",
    "    \n",
    "    state = tf.random.normal(mean=0., stddev=5., shape=(2,), dtype=tf.float64) \n",
    "    next_state = tf.random.normal(mean=0., stddev=5., shape=(2,), dtype=tf.float64)\n",
    "    action = tf.random.normal(mean=0., stddev=5., shape=(1,), dtype=tf.float64)\n",
    "    \n",
    "    states.append(state)\n",
    "    actions.append(action)\n",
    "    next_states.append(next_state)\n",
    "    \n",
    "    agent.observe(state, action, next_state)"
   ]
  },
  {
   "cell_type": "code",
   "execution_count": 9,
   "metadata": {
    "scrolled": false
   },
   "outputs": [],
   "source": [
    "state_loc = tf.zeros(2, dtype=tf.float64)\n",
    "state_cov = tf.eye(2, dtype=tf.float64)\n",
    "\n",
    "# Match moments for the joint state-action distribution\n",
    "mean_u, cov_su, cov_uu = rbf_policy.match_moments(state_loc, state_cov)\n",
    "\n",
    "cov1 = tf.concat([state_cov, cov_su[None, :]], axis=0)\n",
    "cov2 = tf.concat([cov_su[:, None], cov_uu[None, None]], axis=0)\n",
    "\n",
    "cov_full = tf.concat([cov1, cov2], axis=1)\n",
    "\n",
    "mean_full = tf.concat([state_loc, mean_u[None]], axis=0)\n",
    "\n",
    "joint_dist = tfd.MultivariateNormalTriL(loc=mean_full,\n",
    "                                        scale_tril=tf.linalg.cholesky(cov_full))\n",
    "\n",
    "# Stuff we're tying to get to match\n",
    "analytic_moments = agent.match_moments(mean_full, cov_full)\n",
    "#analyitic_moments"
   ]
  },
  {
   "cell_type": "code",
   "execution_count": 10,
   "metadata": {},
   "outputs": [
    {
     "name": "stderr",
     "output_type": "stream",
     "text": [
      "100%|██████████| 1000/1000 [00:10<00:00, 97.67it/s]\n"
     ]
    }
   ],
   "source": [
    "num_samples = 10**3\n",
    "\n",
    "means = []\n",
    "covs = []\n",
    "\n",
    "Qs = []\n",
    "\n",
    "# MC approx\n",
    "for i in trange(num_samples):\n",
    "    \n",
    "    state_action = joint_dist.sample()\n",
    "    \n",
    "    mean, cov = agent.gp_posterior_predictive(state_action[None, :])\n",
    "    \n",
    "    # S x 1 x N\n",
    "    k = agent.exponentiated_quadratic(state_action[None, :], agent.dynamics_inputs)\n",
    "    \n",
    "    # S x S x N x N\n",
    "    Q = tf.einsum('aij, bkl -> abjl', k, k)\n",
    "    \n",
    "    Qs.append(Q)\n",
    "    \n",
    "    means.append(mean)\n",
    "    covs.append(cov)\n",
    "    \n",
    "means = tf.concat(means, axis=0)\n",
    "covs = tf.stack(covs, axis=0)"
   ]
  },
  {
   "cell_type": "code",
   "execution_count": 11,
   "metadata": {},
   "outputs": [
    {
     "data": {
      "text/plain": [
       "<tf.Tensor: shape=(2, 2), dtype=float64, numpy=\n",
       "array([[0.65436911, 0.0262174 ],\n",
       "       [0.0262174 , 0.33661775]])>"
      ]
     },
     "execution_count": 11,
     "metadata": {},
     "output_type": "execute_result"
    }
   ],
   "source": [
    "emp_Q = tf.reduce_mean(tf.stack(Qs, axis=0), axis=0)\n",
    "beta = agent.beta\n",
    "\n",
    "emp_beta_Q_beta = tf.einsum('ai, bj, abij -> ab',\n",
    "                            beta,\n",
    "                            beta,\n",
    "                            emp_Q)\n",
    "\n",
    "emp_beta_Q_beta"
   ]
  },
  {
   "cell_type": "code",
   "execution_count": 12,
   "metadata": {},
   "outputs": [
    {
     "name": "stdout",
     "output_type": "stream",
     "text": [
      "tf.Tensor([ 0.5365647  -0.03342383], shape=(2,), dtype=float64)\n",
      "tf.Tensor(\n",
      "[[0.65436911 0.0262174 ]\n",
      " [0.0262174  0.33661775]], shape=(2, 2), dtype=float64)\n",
      "tf.Tensor(\n",
      "[[1.34605372 0.04415145]\n",
      " [0.04415145 1.31508688]], shape=(2, 2), dtype=float64)\n"
     ]
    }
   ],
   "source": [
    "emp_mean = tf.reduce_mean(means, axis=0)\n",
    "print(emp_mean)\n",
    "\n",
    "emp_var = tf.reduce_mean(covs, axis=[0, 2, 3])\n",
    "\n",
    "emp_cov = tf.reduce_mean(means[:, :, None] * means[:, None, :], axis=0)\n",
    "print(emp_cov)\n",
    "\n",
    "emp_cov = emp_cov - emp_mean[:, None] * emp_mean[None, :]\n",
    "\n",
    "emp_cov = emp_cov + tf.linalg.diag(emp_var)\n",
    "print(emp_cov)"
   ]
  },
  {
   "cell_type": "code",
   "execution_count": 13,
   "metadata": {},
   "outputs": [
    {
     "data": {
      "text/plain": [
       "(<tf.Tensor: shape=(2,), dtype=float64, numpy=array([ 0.55350528, -0.03865606])>,\n",
       " <tf.Tensor: shape=(2, 2), dtype=float64, numpy=\n",
       " array([[1.35712445, 0.02847125],\n",
       "        [0.02847125, 1.31747261]])>)"
      ]
     },
     "execution_count": 13,
     "metadata": {},
     "output_type": "execute_result"
    }
   ],
   "source": [
    "analytic_moments"
   ]
  }
 ],
 "metadata": {
  "kernelspec": {
   "display_name": "Python 3",
   "language": "python",
   "name": "python3"
  },
  "language_info": {
   "codemirror_mode": {
    "name": "ipython",
    "version": 3
   },
   "file_extension": ".py",
   "mimetype": "text/x-python",
   "name": "python",
   "nbconvert_exporter": "python",
   "pygments_lexer": "ipython3",
   "version": "3.7.6"
  }
 },
 "nbformat": 4,
 "nbformat_minor": 4
}
