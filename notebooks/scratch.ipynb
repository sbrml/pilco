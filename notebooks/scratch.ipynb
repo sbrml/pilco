{
 "cells": [
  {
   "cell_type": "code",
   "execution_count": 1,
   "metadata": {},
   "outputs": [],
   "source": [
    "%matplotlib inline"
   ]
  },
  {
   "cell_type": "code",
   "execution_count": 1,
   "metadata": {},
   "outputs": [],
   "source": [
    "import tensorflow as tf\n",
    "import tensorflow_probability as tfp\n",
    "tfd = tfp.distributions\n",
    "\n",
    "import numpy as np\n",
    "\n",
    "from pilco.policies import RBFPolicy, SineBoundedActionPolicy\n",
    "\n",
    "from pilco.agents.agents import EQGPAgent\n",
    "from pilco.costs.costs import EQCost\n",
    "\n",
    "import matplotlib.pyplot as plt\n",
    "from mpl_toolkits.mplot3d import Axes3D\n",
    "\n",
    "from tqdm import trange"
   ]
  },
  {
   "cell_type": "markdown",
   "metadata": {},
   "source": [
    "# Policy: match moments (closed form and MC)"
   ]
  },
  {
   "cell_type": "markdown",
   "metadata": {},
   "source": [
    "## RBF Policy"
   ]
  },
  {
   "cell_type": "code",
   "execution_count": 21,
   "metadata": {},
   "outputs": [],
   "source": [
    "rbf_policy = RBFPolicy(2, 1, 5, dtype=tf.float32)\n",
    "rbf_policy.reset()"
   ]
  },
  {
   "cell_type": "code",
   "execution_count": 22,
   "metadata": {
    "scrolled": true
   },
   "outputs": [
    {
     "name": "stdout",
     "output_type": "stream",
     "text": [
      "All eigenvalues are postive: True\n",
      "mean_full:\n",
      "[[0.        0.        0.0799581]]\n",
      "cov_full:\n",
      "[[ 1.0000000e+00  0.0000000e+00 -2.7423289e-01]\n",
      " [ 0.0000000e+00  1.0000000e+00 -3.6088098e-04]\n",
      " [-2.7423289e-01 -3.6088098e-04  2.6626879e-01]]\n"
     ]
    }
   ],
   "source": [
    "loc = tf.zeros(2, dtype=tf.float32)\n",
    "cov = tf.eye(2, dtype=tf.float32)\n",
    "\n",
    "mean_full, cov_full = rbf_policy.match_moments(loc, cov)\n",
    "\n",
    "print('All eigenvalues are postive:', bool(tf.reduce_all(tf.cast(tf.linalg.eig(cov_full)[0], dtype=tf.float32) > 0)))\n",
    "\n",
    "print(f'mean_full:\\n{mean_full.numpy()}')\n",
    "print(f'cov_full:\\n{cov_full.numpy()}')"
   ]
  },
  {
   "cell_type": "code",
   "execution_count": 23,
   "metadata": {},
   "outputs": [
    {
     "name": "stderr",
     "output_type": "stream",
     "text": [
      "100%|██████████| 1000/1000 [00:00<00:00, 1045.95it/s]\n"
     ]
    }
   ],
   "source": [
    "num_samples = 10**3\n",
    "\n",
    "states = []\n",
    "actions = []\n",
    "\n",
    "for i in trange(num_samples):\n",
    "    \n",
    "    s = tf.random.normal(mean=0., stddev=1., shape=(2,))\n",
    "    \n",
    "    u = rbf_policy(s)\n",
    "    \n",
    "    states.append(s)\n",
    "    actions.append(u)\n",
    "    \n",
    "s = tf.convert_to_tensor(states)\n",
    "u = tf.convert_to_tensor(actions)"
   ]
  },
  {
   "cell_type": "code",
   "execution_count": 24,
   "metadata": {},
   "outputs": [
    {
     "name": "stdout",
     "output_type": "stream",
     "text": [
      "MC mean_full:\n",
      "[[0.00547609 0.03609228 0.09434412]]\n",
      "MC cov_full:\n",
      "[[ 0.92497575 -0.02206209 -0.27942798]\n",
      " [-0.02206209  0.933189    0.00312486]\n",
      " [-0.27942798  0.00312486  0.27524218]]\n"
     ]
    }
   ],
   "source": [
    "su_samples = tf.concat([s, u[..., None]], axis=-1)\n",
    "\n",
    "print('MC mean_full:')\n",
    "mean_full = tf.reduce_mean(su_samples, axis=0)[None, ...]\n",
    "print(mean_full.numpy())\n",
    "\n",
    "print('MC cov_full:')\n",
    "cov_full = (tf.einsum('ij, ik -> jk', su_samples, su_samples) / su_samples.shape[0])\n",
    "cov_full = cov_full - (tf.einsum('ij, ik -> jk', mean_full, mean_full) / mean_full.shape[0])\n",
    "print(cov_full.numpy())"
   ]
  },
  {
   "cell_type": "markdown",
   "metadata": {},
   "source": [
    "## Sine Bounded RBF Policy"
   ]
  },
  {
   "cell_type": "code",
   "execution_count": 25,
   "metadata": {},
   "outputs": [],
   "source": [
    "rbf_policy = RBFPolicy(2, 1, 5, dtype=tf.float32)\n",
    "sb_rbf_policy = SineBoundedActionPolicy(rbf_policy, lower=-2, upper=10)\n",
    "sb_rbf_policy.reset()"
   ]
  },
  {
   "cell_type": "code",
   "execution_count": 26,
   "metadata": {},
   "outputs": [
    {
     "name": "stdout",
     "output_type": "stream",
     "text": [
      "All eigenvalues are postive: True\n",
      "mean_full:\n",
      "[[0.        0.        5.5460596]]\n",
      "cov_full:\n",
      "[[ 1.0000000e+00  0.0000000e+00 -6.3147694e-03]\n",
      " [ 0.0000000e+00  1.0000000e+00  2.1010876e+00]\n",
      " [-6.3147694e-03  2.1010876e+00  1.1517870e+01]]\n"
     ]
    }
   ],
   "source": [
    "loc = tf.zeros(2, dtype=tf.float32)\n",
    "cov = tf.eye(2, dtype=tf.float32)\n",
    "\n",
    "# mean_full_ = tf.convert_to_tensor([[ 0.,        0.,         -0.25994033]], dtype=tf.float32)\n",
    "# cov_full_ = tf.convert_to_tensor([[1.,         0.,         0.09250697],\n",
    "#  [0.,         1.,         0.06342697],\n",
    "#  [0.09250697, 0.06342697, 0.16243385]], dtype=tf.float32)\n",
    "\n",
    "# joint_dist_ = tfd.MultivariateNormalTriL(loc=mean_full_,\n",
    "#                                         scale_tril=tf.linalg.cholesky(cov_full_))\n",
    "\n",
    "mean_full, cov_full = sb_rbf_policy.match_moments(loc, cov)\n",
    "\n",
    "print('All eigenvalues are postive:', bool(tf.reduce_all(tf.cast(tf.linalg.eig(cov_full)[0], dtype=tf.float32) > 0)))\n",
    "\n",
    "print(f'mean_full:\\n{mean_full.numpy()}')\n",
    "print(f'cov_full:\\n{cov_full.numpy()}')"
   ]
  },
  {
   "cell_type": "code",
   "execution_count": 27,
   "metadata": {},
   "outputs": [
    {
     "name": "stderr",
     "output_type": "stream",
     "text": [
      "100%|██████████| 1000/1000 [00:01<00:00, 837.51it/s]\n"
     ]
    }
   ],
   "source": [
    "num_samples = 10**3\n",
    "\n",
    "states = []\n",
    "actions = []\n",
    "\n",
    "for i in trange(num_samples):\n",
    "    \n",
    "#     samp = joint_dist_.sample()\n",
    "#     s = samp[0, :2]\n",
    "    s = tf.random.normal(mean=0., stddev=1., shape=(2,))\n",
    "    \n",
    "    u = sb_rbf_policy(s)\n",
    "    \n",
    "    states.append(s)\n",
    "    actions.append(u)\n",
    "    \n",
    "s = tf.convert_to_tensor(states)\n",
    "u = tf.convert_to_tensor(actions)"
   ]
  },
  {
   "cell_type": "code",
   "execution_count": 28,
   "metadata": {},
   "outputs": [
    {
     "name": "stdout",
     "output_type": "stream",
     "text": [
      "MC mean_full:\n",
      "[[-0.03194174  0.02510313  5.328069  ]]\n",
      "MC cov_full:\n",
      "tf.Tensor(\n",
      "[[ 1.0528259   0.06048473  0.1408468 ]\n",
      " [ 0.06048473  0.9832092   2.2496135 ]\n",
      " [ 0.1408468   2.2496135  11.543514  ]], shape=(3, 3), dtype=float32)\n"
     ]
    }
   ],
   "source": [
    "su_samples = tf.concat([s, u[..., None]], axis=-1)\n",
    "\n",
    "print('MC mean_full:')\n",
    "mean_full = tf.reduce_mean(su_samples, axis=0)[None, ...]\n",
    "print(mean_full.numpy())\n",
    "\n",
    "print('MC cov_full:')\n",
    "cov_full = (tf.einsum('ij, ik -> jk', su_samples, su_samples) / su_samples.shape[0])\n",
    "cov_full = cov_full - (tf.einsum('ij, ik -> jk', mean_full, mean_full) / mean_full.shape[0])\n",
    "print(cov_full)"
   ]
  },
  {
   "cell_type": "markdown",
   "metadata": {},
   "source": [
    "# Agent: match moments (closed form and MC)\n",
    "\n",
    "## Add dummy data to agent"
   ]
  },
  {
   "cell_type": "code",
   "execution_count": 2,
   "metadata": {},
   "outputs": [],
   "source": [
    "tf.random.set_seed(24)\n",
    "\n",
    "rbf_policy = RBFPolicy(state_dim=2,\n",
    "                       action_dim=1,\n",
    "                       num_rbf_features=5,\n",
    "                       dtype=tf.float64)\n",
    "# sb_rbf_policy = SineBoundedActionPolicy(rbf_policy,\n",
    "#                                         lower=-20,\n",
    "#                                         upper=15)\n",
    "rbf_policy.reset()\n",
    "# sb_rbf_policy.reset()\n",
    "\n",
    "eq_cost = EQCost(target_loc=tf.ones((1, 3)),\n",
    "                 target_scale=1.,\n",
    "                 dtype=tf.float64)\n",
    "\n",
    "agent = EQGPAgent(state_dim=2,\n",
    "                  action_dim=1,\n",
    "                  policy=rbf_policy,\n",
    "                  cost=eq_cost,\n",
    "                  dtype=tf.float64)\n",
    "\n",
    "states = []\n",
    "actions = []\n",
    "next_states = []\n",
    "\n",
    "for i in range(50):\n",
    "    \n",
    "    state = tf.random.normal(mean=0., stddev=5., shape=(2,), dtype=tf.float64) \n",
    "    next_state = tf.random.normal(mean=0., stddev=5., shape=(2,), dtype=tf.float64)\n",
    "    action = tf.random.normal(mean=0., stddev=5., shape=(1,), dtype=tf.float64)\n",
    "    \n",
    "    states.append(state)\n",
    "    actions.append(action)\n",
    "    next_states.append(next_state)\n",
    "    \n",
    "    agent.observe(state, action, next_state)"
   ]
  },
  {
   "cell_type": "markdown",
   "metadata": {},
   "source": [
    "## Match moments analytically"
   ]
  },
  {
   "cell_type": "code",
   "execution_count": 3,
   "metadata": {
    "scrolled": false
   },
   "outputs": [],
   "source": [
    "state_loc = 3 * tf.ones(2, dtype=tf.float64)\n",
    "state_cov = 9 * tf.eye(2, dtype=tf.float64)\n",
    "\n",
    "# Match moments for the joint state-action distribution\n",
    "mean_full, cov_full = rbf_policy.match_moments(state_loc, state_cov)\n",
    "\n",
    "joint_dist = tfd.MultivariateNormalTriL(loc=mean_full,\n",
    "                                        scale_tril=tf.linalg.cholesky(cov_full))"
   ]
  },
  {
   "cell_type": "markdown",
   "metadata": {},
   "source": [
    "## Match moments by MC"
   ]
  },
  {
   "cell_type": "code",
   "execution_count": 4,
   "metadata": {},
   "outputs": [
    {
     "name": "stderr",
     "output_type": "stream",
     "text": [
      "100%|██████████| 1000/1000 [00:11<00:00, 86.02it/s]\n"
     ]
    }
   ],
   "source": [
    "num_samples = 10**3\n",
    "\n",
    "means = []\n",
    "covs = []\n",
    "state_actions = []\n",
    "\n",
    "# MC approx\n",
    "for i in trange(num_samples):\n",
    "    \n",
    "    state_action = joint_dist.sample()\n",
    "    \n",
    "    #Note: mean is the expectation of the deltas!\n",
    "    mean, cov = agent.gp_posterior_predictive(state_action)\n",
    "    means.append(mean)\n",
    "    \n",
    "    covs.append(cov)\n",
    "    state_actions.append(state_action)\n",
    "    \n",
    "means = tf.concat(means, axis=0)\n",
    "covs = tf.stack(covs, axis=0)\n",
    "state_actions = tf.stack(state_actions, axis=0)"
   ]
  },
  {
   "cell_type": "code",
   "execution_count": 9,
   "metadata": {},
   "outputs": [
    {
     "name": "stdout",
     "output_type": "stream",
     "text": [
      "Emp mean:\n",
      "[[2.99909105 2.99902564]]\n",
      "Emp diagonal cov components:\n",
      "[0.9999897 0.9999897]\n",
      "Emp cov without cross cov:\n",
      "[[-7.99429197 -8.9940664 ]\n",
      " [-8.9940664  -7.99386007]]\n",
      "Emp cross cov:\n",
      "[[ 0.00115037  0.00123314]\n",
      " [-0.00085346 -0.00091487]]\n",
      "Emp cross cov:\n",
      "[[ 1.00800877 -8.99368672]\n",
      " [-8.99368672  1.00431018]]\n"
     ]
    }
   ],
   "source": [
    "emp_mean = tf.reduce_mean(means, axis=0) + mean_full[:, :agent.state_dim]\n",
    "print(f\"Emp mean:\\n{emp_mean}\")\n",
    "\n",
    "emp_var = tf.reduce_mean(covs, axis=[0, 2, 3])\n",
    "print(f\"Emp diagonal cov components:\\n{emp_var}\")\n",
    "emp_cov = tf.reduce_mean(means[:, :, None] * means[:, None, :], axis=0) - emp_mean * tf.transpose(emp_mean)\n",
    "emp_cov = emp_cov + tf.linalg.diag(emp_var)\n",
    "print(f\"Emp cov without cross cov:\\n{emp_cov}\")\n",
    "\n",
    "states = state_actions[:, :, :agent.state_dim]\n",
    "emp_cross_cov = tf.reduce_mean(states * means[:, :, None], axis=0)\n",
    "emp_cross_cov = emp_cross_cov - tf.reduce_mean(states, axis=0) * tf.reduce_mean(means[:, :, None], axis=0)\n",
    "print(f\"Emp cross cov:\\n{tf.transpose(emp_cross_cov)}\")\n",
    "\n",
    "emp_cov = cov_full[:agent.state_dim, :agent.state_dim] + emp_cov + emp_cross_cov + tf.transpose(emp_cross_cov)\n",
    "print(f\"Emp cross cov:\\n{emp_cov}\")"
   ]
  },
  {
   "cell_type": "code",
   "execution_count": 8,
   "metadata": {},
   "outputs": [
    {
     "name": "stdout",
     "output_type": "stream",
     "text": [
      "Cov diag components:\n",
      "[0.99988921 0.99988921]\n",
      "cov without cross cov:\n",
      " [[1.00276027 0.00304514]\n",
      " [0.00304514 1.00317058]]\n",
      "Cross cov:\n",
      "[[ 0.00179781  0.00194422]\n",
      " [-0.00166921 -0.0018463 ]]\n",
      "Cov with cov full:\n",
      "[[1.00027603e+01 3.04514331e-03]\n",
      " [3.04514331e-03 1.00031706e+01]]\n",
      "Analytic mean:\n",
      "[2.99842198 2.99830533]\n",
      "Analytic cov:\n",
      "[[1.00063559e+01 3.32015972e-03]\n",
      " [3.32015972e-03 9.99947798e+00]]\n"
     ]
    }
   ],
   "source": [
    "m, c = agent.match_moments(mean_full, cov_full)\n",
    "print(f\"Analytic mean:\\n{m}\")\n",
    "print(f\"Analytic cov:\\n{c}\")"
   ]
  },
  {
   "cell_type": "code",
   "execution_count": 7,
   "metadata": {},
   "outputs": [
    {
     "data": {
      "text/plain": [
       "<tf.Tensor: shape=(), dtype=float64, numpy=9.000144481671695>"
      ]
     },
     "execution_count": 7,
     "metadata": {},
     "output_type": "execute_result"
    }
   ],
   "source": [
    "tf.reduce_max(tf.abs(emp_cov - c))"
   ]
  },
  {
   "cell_type": "code",
   "execution_count": 26,
   "metadata": {},
   "outputs": [
    {
     "name": "stderr",
     "output_type": "stream",
     "text": [
      "100%|██████████| 1000/1000 [00:03<00:00, 310.57it/s]\n"
     ]
    }
   ],
   "source": [
    "num_samples = 10**3\n",
    "\n",
    "emp_costs = []\n",
    "\n",
    "for s in trange(num_samples):\n",
    "    \n",
    "    sample = joint_dist.sample()\n",
    "    \n",
    "    c = eq_cost(sample)\n",
    "    \n",
    "    emp_costs.append(c)\n",
    "    \n",
    "emp_costs = tf.stack(emp_costs)"
   ]
  },
  {
   "cell_type": "code",
   "execution_count": 27,
   "metadata": {},
   "outputs": [
    {
     "data": {
      "text/plain": [
       "<tf.Tensor: shape=(), dtype=float64, numpy=0.9314016540191794>"
      ]
     },
     "execution_count": 27,
     "metadata": {},
     "output_type": "execute_result"
    }
   ],
   "source": [
    "emp_cost = tf.reduce_mean(emp_costs)\n",
    "emp_cost"
   ]
  },
  {
   "cell_type": "code",
   "execution_count": 29,
   "metadata": {},
   "outputs": [
    {
     "data": {
      "text/plain": [
       "<tf.Tensor: shape=(), dtype=float64, numpy=0.9312332897741745>"
      ]
     },
     "execution_count": 29,
     "metadata": {},
     "output_type": "execute_result"
    }
   ],
   "source": [
    "eq_cost.expected_cost(loc=mean_full,\n",
    "                      cov=cov_full)"
   ]
  },
  {
   "cell_type": "code",
   "execution_count": null,
   "metadata": {},
   "outputs": [],
   "source": []
  }
 ],
 "metadata": {
  "kernelspec": {
   "display_name": "Python 3",
   "language": "python",
   "name": "python3"
  },
  "language_info": {
   "codemirror_mode": {
    "name": "ipython",
    "version": 3
   },
   "file_extension": ".py",
   "mimetype": "text/x-python",
   "name": "python",
   "nbconvert_exporter": "python",
   "pygments_lexer": "ipython3",
   "version": "3.7.6"
  }
 },
 "nbformat": 4,
 "nbformat_minor": 4
}
