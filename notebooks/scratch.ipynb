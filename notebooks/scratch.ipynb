{
 "cells": [
  {
   "cell_type": "code",
   "execution_count": 1,
   "metadata": {},
   "outputs": [],
   "source": [
    "%matplotlib inline"
   ]
  },
  {
   "cell_type": "code",
   "execution_count": 2,
   "metadata": {},
   "outputs": [],
   "source": [
    "import tensorflow as tf\n",
    "import tensorflow_probability as tfp\n",
    "tfd = tfp.distributions\n",
    "\n",
    "import numpy as np\n",
    "\n",
    "from pilco.policies import RBFPolicy, SineBoundedActionPolicy\n",
    "\n",
    "from pilco.agents.agents import EQGPAgent\n",
    "from pilco.costs.costs import EQCost\n",
    "\n",
    "import matplotlib.pyplot as plt\n",
    "from mpl_toolkits.mplot3d import Axes3D\n",
    "\n",
    "from tqdm import trange"
   ]
  },
  {
   "cell_type": "markdown",
   "metadata": {},
   "source": [
    "# Policy: match moments (closed form and MC)"
   ]
  },
  {
   "cell_type": "markdown",
   "metadata": {},
   "source": [
    "## RBF Policy"
   ]
  },
  {
   "cell_type": "code",
   "execution_count": 2,
   "metadata": {},
   "outputs": [],
   "source": [
    "rbf_policy = RBFPolicy(2, 1, 5, dtype=tf.float32)\n",
    "rbf_policy.reset()"
   ]
  },
  {
   "cell_type": "code",
   "execution_count": 3,
   "metadata": {
    "scrolled": true
   },
   "outputs": [
    {
     "name": "stdout",
     "output_type": "stream",
     "text": [
      "All eigenvalues are postive: True\n",
      "mean_full:\n",
      "[[ 0.          0.         -0.85934794]]\n",
      "cov_full:\n",
      "[[ 1.          0.          0.92527944]\n",
      " [ 0.          1.         -0.20175733]\n",
      " [ 0.92527944 -0.20175733  1.3220766 ]]\n"
     ]
    }
   ],
   "source": [
    "loc = tf.zeros(2, dtype=tf.float32)\n",
    "cov = tf.eye(2, dtype=tf.float32)\n",
    "\n",
    "mean_full, cov_full = rbf_policy.match_moments(loc, cov)\n",
    "\n",
    "print('All eigenvalues are postive:', bool(tf.reduce_all(tf.cast(tf.linalg.eig(cov_full)[0], dtype=tf.float32) > 0)))\n",
    "\n",
    "print(f'mean_full:\\n{mean_full.numpy()}')\n",
    "print(f'cov_full:\\n{cov_full.numpy()}')"
   ]
  },
  {
   "cell_type": "code",
   "execution_count": 4,
   "metadata": {},
   "outputs": [
    {
     "name": "stderr",
     "output_type": "stream",
     "text": [
      "100%|██████████| 1000/1000 [00:00<00:00, 1356.74it/s]\n"
     ]
    }
   ],
   "source": [
    "num_samples = 10**3\n",
    "\n",
    "states = []\n",
    "actions = []\n",
    "\n",
    "for i in trange(num_samples):\n",
    "    \n",
    "    s = tf.random.normal(mean=0., stddev=1., shape=(2,))\n",
    "    \n",
    "    u = rbf_policy(s)\n",
    "    \n",
    "    states.append(s)\n",
    "    actions.append(u)\n",
    "    \n",
    "s = tf.convert_to_tensor(states)\n",
    "u = tf.convert_to_tensor(actions)"
   ]
  },
  {
   "cell_type": "code",
   "execution_count": 5,
   "metadata": {},
   "outputs": [
    {
     "name": "stdout",
     "output_type": "stream",
     "text": [
      "MC mean_full:\n",
      "[[ 0.01983453  0.02856064 -0.824412  ]]\n",
      "MC cov_full:\n",
      "[[ 1.1124946  -0.0107068   1.0042939 ]\n",
      " [-0.0107068   1.0111924  -0.18531339]\n",
      " [ 1.0042939  -0.18531339  1.4053669 ]]\n"
     ]
    }
   ],
   "source": [
    "su_samples = tf.concat([s, u[..., None]], axis=-1)\n",
    "\n",
    "print('MC mean_full:')\n",
    "mean_full = tf.reduce_mean(su_samples, axis=0)[None, ...]\n",
    "print(mean_full.numpy())\n",
    "\n",
    "print('MC cov_full:')\n",
    "cov_full = (tf.einsum('ij, ik -> jk', su_samples, su_samples) / su_samples.shape[0])\n",
    "cov_full = cov_full - (tf.einsum('ij, ik -> jk', mean_full, mean_full) / mean_full.shape[0])\n",
    "print(cov_full.numpy())"
   ]
  },
  {
   "cell_type": "markdown",
   "metadata": {},
   "source": [
    "## Sine Bounded RBF Policy"
   ]
  },
  {
   "cell_type": "code",
   "execution_count": 3,
   "metadata": {},
   "outputs": [],
   "source": [
    "rbf_policy = RBFPolicy(2, 1, 5, dtype=tf.float32)\n",
    "sb_rbf_policy = SineBoundedActionPolicy(rbf_policy, lower=-2, upper=10)\n",
    "sb_rbf_policy.reset()"
   ]
  },
  {
   "cell_type": "code",
   "execution_count": 4,
   "metadata": {},
   "outputs": [
    {
     "name": "stdout",
     "output_type": "stream",
     "text": [
      "All eigenvalues are postive: True\n",
      "mean_full:\n",
      "[[0.        0.        6.6483717]]\n",
      "cov_full:\n",
      "[[ 1.          0.         -1.3690133 ]\n",
      " [ 0.          1.          0.84770405]\n",
      " [-1.3690133   0.84770405  9.849387  ]]\n"
     ]
    }
   ],
   "source": [
    "loc = tf.zeros(2, dtype=tf.float32)\n",
    "cov = tf.eye(2, dtype=tf.float32)\n",
    "\n",
    "# mean_full_ = tf.convert_to_tensor([[ 0.,        0.,         -0.25994033]], dtype=tf.float32)\n",
    "# cov_full_ = tf.convert_to_tensor([[1.,         0.,         0.09250697],\n",
    "#  [0.,         1.,         0.06342697],\n",
    "#  [0.09250697, 0.06342697, 0.16243385]], dtype=tf.float32)\n",
    "\n",
    "# joint_dist_ = tfd.MultivariateNormalTriL(loc=mean_full_,\n",
    "#                                         scale_tril=tf.linalg.cholesky(cov_full_))\n",
    "\n",
    "mean_full, cov_full = sb_rbf_policy.match_moments(loc, cov)\n",
    "\n",
    "print('All eigenvalues are postive:', bool(tf.reduce_all(tf.cast(tf.linalg.eig(cov_full)[0], dtype=tf.float32) > 0)))\n",
    "\n",
    "print(f'mean_full:\\n{mean_full.numpy()}')\n",
    "print(f'cov_full:\\n{cov_full.numpy()}')"
   ]
  },
  {
   "cell_type": "code",
   "execution_count": 5,
   "metadata": {},
   "outputs": [
    {
     "name": "stderr",
     "output_type": "stream",
     "text": [
      "100%|██████████| 1000/1000 [00:00<00:00, 1135.98it/s]\n"
     ]
    }
   ],
   "source": [
    "num_samples = 10**3\n",
    "\n",
    "states = []\n",
    "actions = []\n",
    "\n",
    "for i in trange(num_samples):\n",
    "    \n",
    "#     samp = joint_dist_.sample()\n",
    "#     s = samp[0, :2]\n",
    "    s = tf.random.normal(mean=0., stddev=1., shape=(2,))\n",
    "    \n",
    "    u = sb_rbf_policy(s)\n",
    "    \n",
    "    states.append(s)\n",
    "    actions.append(u)\n",
    "    \n",
    "s = tf.convert_to_tensor(states)\n",
    "u = tf.convert_to_tensor(actions)"
   ]
  },
  {
   "cell_type": "code",
   "execution_count": 6,
   "metadata": {},
   "outputs": [
    {
     "name": "stdout",
     "output_type": "stream",
     "text": [
      "MC mean_full:\n",
      "[[ 0.05841371 -0.0142893   6.3827133 ]]\n",
      "MC cov_full:\n",
      "tf.Tensor(\n",
      "[[ 1.0405152  -0.09474523 -1.6307832 ]\n",
      " [-0.09474523  0.94430625  1.0460137 ]\n",
      " [-1.6307832   1.0460137   8.115406  ]], shape=(3, 3), dtype=float32)\n"
     ]
    }
   ],
   "source": [
    "su_samples = tf.concat([s, u[..., None]], axis=-1)\n",
    "\n",
    "print('MC mean_full:')\n",
    "mean_full = tf.reduce_mean(su_samples, axis=0)[None, ...]\n",
    "print(mean_full.numpy())\n",
    "\n",
    "print('MC cov_full:')\n",
    "cov_full = (tf.einsum('ij, ik -> jk', su_samples, su_samples) / su_samples.shape[0])\n",
    "cov_full = cov_full - (tf.einsum('ij, ik -> jk', mean_full, mean_full) / mean_full.shape[0])\n",
    "print(cov_full)"
   ]
  },
  {
   "cell_type": "markdown",
   "metadata": {},
   "source": [
    "# Agent: match moments (closed form and MC)\n",
    "\n",
    "## Add dummy data to agent"
   ]
  },
  {
   "cell_type": "code",
   "execution_count": 7,
   "metadata": {},
   "outputs": [],
   "source": [
    "tf.random.set_seed(24)\n",
    "\n",
    "rbf_policy = RBFPolicy(state_dim=2,\n",
    "                       action_dim=1,\n",
    "                       num_rbf_features=5,\n",
    "                       dtype=tf.float64)\n",
    "rbf_policy.reset()\n",
    "\n",
    "eq_cost = EQCost(target_loc=tf.ones((1, 3)),\n",
    "                 target_scale=1.,\n",
    "                 dtype=tf.float64)\n",
    "\n",
    "agent = EQGPAgent(state_dim=2,\n",
    "                  action_dim=1,\n",
    "                  policy=rbf_policy,\n",
    "                  cost=eq_cost,\n",
    "                  dtype=tf.float64)\n",
    "\n",
    "states = []\n",
    "actions = []\n",
    "next_states = []\n",
    "\n",
    "for i in range(50):\n",
    "    \n",
    "    state = tf.random.normal(mean=0., stddev=5., shape=(2,), dtype=tf.float64) \n",
    "    next_state = tf.random.normal(mean=0., stddev=5., shape=(2,), dtype=tf.float64)\n",
    "    action = tf.random.normal(mean=0., stddev=5., shape=(1,), dtype=tf.float64)\n",
    "    \n",
    "    states.append(state)\n",
    "    actions.append(action)\n",
    "    next_states.append(next_state)\n",
    "    \n",
    "    agent.observe(state, action, next_state)"
   ]
  },
  {
   "cell_type": "markdown",
   "metadata": {},
   "source": [
    "## Match moments analytically"
   ]
  },
  {
   "cell_type": "code",
   "execution_count": 8,
   "metadata": {
    "scrolled": false
   },
   "outputs": [
    {
     "name": "stdout",
     "output_type": "stream",
     "text": [
      "<class 'pilco.agents.agents.EQGPAgent'> cov before tf.Tensor(\n",
      "[[1.35712445 0.02847125]\n",
      " [0.02847125 1.31747261]], shape=(2, 2), dtype=float64)\n",
      "<class 'pilco.agents.agents.EQGPAgent'> cross_cov_s tf.Tensor(\n",
      "[[-0.3693801  -0.30024672]\n",
      " [-0.37663962  0.30347296]], shape=(2, 2), dtype=float64)\n"
     ]
    }
   ],
   "source": [
    "state_loc = tf.zeros(2, dtype=tf.float64)\n",
    "state_cov = tf.eye(2, dtype=tf.float64)\n",
    "\n",
    "# Match moments for the joint state-action distribution\n",
    "mean_full, cov_full = rbf_policy.match_moments(state_loc, state_cov)\n",
    "\n",
    "joint_dist = tfd.MultivariateNormalTriL(loc=mean_full,\n",
    "                                        scale_tril=tf.linalg.cholesky(cov_full))\n",
    "\n",
    "# Stuff we're tying to get to match\n",
    "analytic_moments = agent.match_moments(mean_full, cov_full)"
   ]
  },
  {
   "cell_type": "markdown",
   "metadata": {},
   "source": [
    "## Match moments by MC"
   ]
  },
  {
   "cell_type": "code",
   "execution_count": 9,
   "metadata": {},
   "outputs": [
    {
     "name": "stderr",
     "output_type": "stream",
     "text": [
      "100%|██████████| 1000/1000 [00:09<00:00, 106.61it/s]\n"
     ]
    }
   ],
   "source": [
    "num_samples = 10**3\n",
    "\n",
    "means = []\n",
    "covs = []\n",
    "state_actions = []\n",
    "\n",
    "# MC approx\n",
    "for i in trange(num_samples):\n",
    "    \n",
    "    state_action = joint_dist.sample()\n",
    "    \n",
    "    mean, cov = agent.gp_posterior_predictive(state_action)\n",
    "    \n",
    "    # S x 1 x N\n",
    "    k = agent.exponentiated_quadratic(state_action, agent.dynamics_inputs)\n",
    "    \n",
    "    means.append(mean)\n",
    "    covs.append(cov)\n",
    "    state_actions.append(state_action)\n",
    "    \n",
    "means = tf.concat(means, axis=0)\n",
    "covs = tf.stack(covs, axis=0)\n",
    "state_actions = tf.stack(state_actions, axis=0)"
   ]
  },
  {
   "cell_type": "code",
   "execution_count": 24,
   "metadata": {},
   "outputs": [
    {
     "name": "stdout",
     "output_type": "stream",
     "text": [
      "tf.Tensor([[ 0.5365647  -0.03342383]], shape=(1, 2), dtype=float64)\n",
      "tf.Tensor(\n",
      "[[ 1.60035328 -0.63295332]\n",
      " [-0.63295332  2.84512342]], shape=(2, 2), dtype=float64)\n"
     ]
    }
   ],
   "source": [
    "emp_mean = tf.reduce_mean(means, axis=0) + mean_full[:, :agent.state_dim]\n",
    "print(emp_mean)\n",
    "\n",
    "emp_var = tf.reduce_mean(covs, axis=[0, 2, 3])\n",
    "emp_cov = tf.reduce_mean(means[:, :, None] * means[:, None, :], axis=0) - emp_mean * tf.transpose(emp_mean)\n",
    "emp_cov = emp_cov + tf.linalg.diag(emp_var)\n",
    "\n",
    "states = state_actions[:, :, :agent.state_dim]\n",
    "emp_cross_cov = tf.reduce_mean(states * means[:, :, None], axis=0)\n",
    "emp_cross_cov = emp_cross_cov - tf.reduce_mean(states, axis=0) * tf.reduce_mean(means[:, :, None], axis=0)\n",
    "\n",
    "emp_cov = cov_full[:agent.state_dim, :agent.state_dim] + emp_cov + emp_cross_cov + tf.transpose(emp_cross_cov)\n",
    "print(emp_cov)"
   ]
  },
  {
   "cell_type": "code",
   "execution_count": 25,
   "metadata": {},
   "outputs": [
    {
     "name": "stdout",
     "output_type": "stream",
     "text": [
      "<class 'pilco.agents.agents.EQGPAgent'> cov before tf.Tensor(\n",
      "[[1.35712445 0.02847125]\n",
      " [0.02847125 1.31747261]], shape=(2, 2), dtype=float64)\n",
      "<class 'pilco.agents.agents.EQGPAgent'> cross_cov_s tf.Tensor(\n",
      "[[-0.3693801  -0.30024672]\n",
      " [-0.37663962  0.30347296]], shape=(2, 2), dtype=float64)\n"
     ]
    },
    {
     "data": {
      "text/plain": [
       "(<tf.Tensor: shape=(2,), dtype=float64, numpy=array([ 0.55350528, -0.03865606])>,\n",
       " <tf.Tensor: shape=(2, 2), dtype=float64, numpy=\n",
       " array([[ 1.61836424, -0.64841509],\n",
       "        [-0.64841509,  2.92441853]])>)"
      ]
     },
     "execution_count": 25,
     "metadata": {},
     "output_type": "execute_result"
    }
   ],
   "source": [
    "agent.match_moments(mean_full, cov_full)"
   ]
  },
  {
   "cell_type": "code",
   "execution_count": 26,
   "metadata": {},
   "outputs": [
    {
     "name": "stderr",
     "output_type": "stream",
     "text": [
      "100%|██████████| 1000/1000 [00:03<00:00, 310.57it/s]\n"
     ]
    }
   ],
   "source": [
    "num_samples = 10**3\n",
    "\n",
    "emp_costs = []\n",
    "\n",
    "for s in trange(num_samples):\n",
    "    \n",
    "    sample = joint_dist.sample()\n",
    "    \n",
    "    c = eq_cost(sample)\n",
    "    \n",
    "    emp_costs.append(c)\n",
    "    \n",
    "emp_costs = tf.stack(emp_costs)"
   ]
  },
  {
   "cell_type": "code",
   "execution_count": 27,
   "metadata": {},
   "outputs": [
    {
     "data": {
      "text/plain": [
       "<tf.Tensor: shape=(), dtype=float64, numpy=0.9314016540191794>"
      ]
     },
     "execution_count": 27,
     "metadata": {},
     "output_type": "execute_result"
    }
   ],
   "source": [
    "emp_cost = tf.reduce_mean(emp_costs)\n",
    "emp_cost"
   ]
  },
  {
   "cell_type": "code",
   "execution_count": 29,
   "metadata": {},
   "outputs": [
    {
     "data": {
      "text/plain": [
       "<tf.Tensor: shape=(), dtype=float64, numpy=0.9312332897741745>"
      ]
     },
     "execution_count": 29,
     "metadata": {},
     "output_type": "execute_result"
    }
   ],
   "source": [
    "eq_cost.expected_cost(loc=mean_full,\n",
    "                      cov=cov_full)"
   ]
  },
  {
   "cell_type": "code",
   "execution_count": null,
   "metadata": {},
   "outputs": [],
   "source": []
  }
 ],
 "metadata": {
  "kernelspec": {
   "display_name": "Python 3",
   "language": "python",
   "name": "python3"
  },
  "language_info": {
   "codemirror_mode": {
    "name": "ipython",
    "version": 3
   },
   "file_extension": ".py",
   "mimetype": "text/x-python",
   "name": "python",
   "nbconvert_exporter": "python",
   "pygments_lexer": "ipython3",
   "version": "3.7.6"
  }
 },
 "nbformat": 4,
 "nbformat_minor": 4
}
